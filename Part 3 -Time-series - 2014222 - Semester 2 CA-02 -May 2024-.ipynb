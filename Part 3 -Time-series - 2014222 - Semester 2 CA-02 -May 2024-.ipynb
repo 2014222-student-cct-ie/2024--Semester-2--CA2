{
 "cells": [
  {
   "cell_type": "markdown",
   "id": "1dbd1902",
   "metadata": {},
   "source": [
    "# 2014222 - Semester 2 CA-02 -May 2024"
   ]
  },
  {
   "cell_type": "markdown",
   "id": "a3b41c96",
   "metadata": {},
   "source": [
    "# Github account"
   ]
  },
  {
   "cell_type": "markdown",
   "id": "21138b19",
   "metadata": {},
   "source": [
    "https://github.com/2014222-student-cct-ie/2024--Semester-2--CA2/"
   ]
  },
  {
   "cell_type": "markdown",
   "id": "178127e3",
   "metadata": {},
   "source": [
    "# Part 3 Time-series"
   ]
  },
  {
   "cell_type": "code",
   "execution_count": 1,
   "id": "9d202014",
   "metadata": {},
   "outputs": [
    {
     "name": "stderr",
     "output_type": "stream",
     "text": [
      "/Users/geomarmunoz/anaconda3/lib/python3.11/site-packages/pandas/core/arrays/masked.py:60: UserWarning: Pandas requires version '1.3.6' or newer of 'bottleneck' (version '1.3.5' currently installed).\n",
      "  from pandas.core import (\n"
     ]
    }
   ],
   "source": [
    "# Utilise Python programming language in order to comply with the requisites of the assessment and perform adequate Machine\n",
    "# Learning algorithms to discover and deliver insights.\n",
    "\n",
    "# Import the necessary libraries (Numpy and Pandas) in order to perform data cleansing.\n",
    "# These are the libraries that are conventionally used as a common practice in order to\n",
    "# perform mathematical and statistical operations during a data analysis process\n",
    "\n",
    "import numpy as np\n",
    "import pandas as pd\n",
    "\n",
    "# Import Matplotlib and Plotly library in order to perform data visualisation procedures\n",
    "\n",
    "import plotly.express as px\n",
    "import plotly.graph_objects as go\n",
    "import matplotlib.pyplot as plt\n",
    "from statsmodels.graphics.tsaplots import plot_acf, plot_pacf\n",
    "\n",
    "# Import Seaborn libraries in order to perform data visualisation procedures\n",
    "\n",
    "import seaborn as sns\n",
    "\n",
    "# I am using this line of code to see all columns in a wide DataFrame\n",
    "\n",
    "pd.set_option('display.max_columns', None)\n",
    "\n",
    "from pyspark.sql import SparkSession\n",
    "from pyspark.ml.feature import VectorAssembler, StandardScaler\n",
    "from pyspark.ml.linalg import Vectors\n",
    "from pyspark.sql.functions import col\n",
    "from pyspark.ml import Pipeline\n",
    "from pyspark.sql.types import FloatType\n",
    "\n",
    "\n",
    "# For normalization\n",
    "from pyspark.ml.feature import MinMaxScaler \n",
    "from pyspark.ml.evaluation import RegressionEvaluator\n",
    "from pyspark.ml.regression import LinearRegression\n",
    "from pyspark.ml.tuning import ParamGridBuilder, TrainValidationSplit\n",
    "\n",
    "\n",
    "# process the tweets data\n",
    "# !pip install textblob\n",
    "from pyspark.sql.functions import udf\n",
    "from textblob import TextBlob\n",
    "\n",
    "# pip install nltk\n",
    "import nltk\n",
    "from nltk.sentiment import SentimentIntensityAnalyzer\n",
    "\n",
    "from pyspark.sql import DataFrame\n",
    "\n",
    "# re module provides regular expression support.\n",
    "# In Python a regular expression search is typically written as:\n",
    "# match = re. search(pat, str)\n",
    "# The re.search() method takes a regular expression pattern and a string and searches\n",
    "# for that pattern within the string.\n",
    "\n",
    "import re\n",
    "\n",
    "from pyspark.sql.types import StructType, StructField, IntegerType, StringType\n",
    "\n",
    "# !pip install pyspark\n",
    "\n",
    "# !pip install pyspark pandas\n",
    "\n",
    "# Import the warnings module\n",
    "\n",
    "# !pip install dash plotly\n",
    "\n",
    "# !pip install jupyter-dash\n",
    "\n",
    "\n",
    "from statsmodels.tsa.arima.model import ARIMA\n",
    "from statsmodels.tsa.arima_model import ARIMA\n",
    "\n",
    "from statsmodels.tsa.holtwinters import ExponentialSmoothing\n",
    "\n",
    "from statsmodels.tsa.statespace.sarimax import SARIMAX\n",
    "\n",
    "from statsmodels.tsa.statespace.varmax import VARMAX\n",
    "\n",
    "from sklearn.metrics import mean_absolute_error, mean_squared_error\n",
    "\n",
    "from sklearn.preprocessing import MinMaxScaler\n",
    "from sklearn.model_selection import train_test_split\n",
    "from keras.models import Sequential\n",
    "from keras.layers import LSTM, Dense, Dropout\n",
    "\n",
    "import warnings\n",
    "\n",
    "# Ignore all warnings by applying th the 'filterwarnings()'' function and passing the 'ignore' argument\n",
    "\n",
    "warnings.filterwarnings('ignore')"
   ]
  },
  {
   "cell_type": "code",
   "execution_count": 2,
   "id": "5e99ffd4",
   "metadata": {},
   "outputs": [],
   "source": [
    "tweets_dataset_new = pd.read_csv('sentiment_score_and_labeled_tweets.csv')"
   ]
  },
  {
   "cell_type": "code",
   "execution_count": 3,
   "id": "15467842",
   "metadata": {},
   "outputs": [
    {
     "data": {
      "text/html": [
       "<div>\n",
       "<style scoped>\n",
       "    .dataframe tbody tr th:only-of-type {\n",
       "        vertical-align: middle;\n",
       "    }\n",
       "\n",
       "    .dataframe tbody tr th {\n",
       "        vertical-align: top;\n",
       "    }\n",
       "\n",
       "    .dataframe thead th {\n",
       "        text-align: right;\n",
       "    }\n",
       "</style>\n",
       "<table border=\"1\" class=\"dataframe\">\n",
       "  <thead>\n",
       "    <tr style=\"text-align: right;\">\n",
       "      <th></th>\n",
       "      <th>tweet_ID</th>\n",
       "      <th>date_timestamp</th>\n",
       "      <th>twitter_user</th>\n",
       "      <th>cleaned_tweet_text</th>\n",
       "      <th>vader_score</th>\n",
       "      <th>textblob_score</th>\n",
       "      <th>vader_sentiment</th>\n",
       "      <th>textblob_sentiment</th>\n",
       "    </tr>\n",
       "  </thead>\n",
       "  <tbody>\n",
       "    <tr>\n",
       "      <th>0</th>\n",
       "      <td>1467810369</td>\n",
       "      <td>04-06-2009 22:19:45</td>\n",
       "      <td>_TheSpecialOne_</td>\n",
       "      <td>- Awww, that's a bummer.  You shoulda got Davi...</td>\n",
       "      <td>-0.0173</td>\n",
       "      <td>0.216667</td>\n",
       "      <td>Negative</td>\n",
       "      <td>Positive</td>\n",
       "    </tr>\n",
       "    <tr>\n",
       "      <th>1</th>\n",
       "      <td>1467810672</td>\n",
       "      <td>04-06-2009 22:19:49</td>\n",
       "      <td>scotthamilton</td>\n",
       "      <td>is upset that he can't update his Facebook by ...</td>\n",
       "      <td>-0.7500</td>\n",
       "      <td>0.000000</td>\n",
       "      <td>Negative</td>\n",
       "      <td>Neutral</td>\n",
       "    </tr>\n",
       "    <tr>\n",
       "      <th>2</th>\n",
       "      <td>1467810917</td>\n",
       "      <td>04-06-2009 22:19:53</td>\n",
       "      <td>mattycus</td>\n",
       "      <td>I dived many times for the ball. Managed to sa...</td>\n",
       "      <td>0.4939</td>\n",
       "      <td>0.500000</td>\n",
       "      <td>Positive</td>\n",
       "      <td>Positive</td>\n",
       "    </tr>\n",
       "    <tr>\n",
       "      <th>3</th>\n",
       "      <td>1467811184</td>\n",
       "      <td>04-06-2009 22:19:57</td>\n",
       "      <td>ElleCTF</td>\n",
       "      <td>my whole body feels itchy and like its on fire</td>\n",
       "      <td>-0.2500</td>\n",
       "      <td>0.200000</td>\n",
       "      <td>Negative</td>\n",
       "      <td>Positive</td>\n",
       "    </tr>\n",
       "    <tr>\n",
       "      <th>4</th>\n",
       "      <td>1467811193</td>\n",
       "      <td>04-06-2009 22:19:57</td>\n",
       "      <td>Karoli</td>\n",
       "      <td>no, it's not behaving at all. i'm mad. why am ...</td>\n",
       "      <td>-0.6597</td>\n",
       "      <td>-0.625000</td>\n",
       "      <td>Negative</td>\n",
       "      <td>Negative</td>\n",
       "    </tr>\n",
       "    <tr>\n",
       "      <th>...</th>\n",
       "      <td>...</td>\n",
       "      <td>...</td>\n",
       "      <td>...</td>\n",
       "      <td>...</td>\n",
       "      <td>...</td>\n",
       "      <td>...</td>\n",
       "      <td>...</td>\n",
       "      <td>...</td>\n",
       "    </tr>\n",
       "    <tr>\n",
       "      <th>638474</th>\n",
       "      <td>2072531933</td>\n",
       "      <td>06-07-2009 21:12:35</td>\n",
       "      <td>Neo_drone</td>\n",
       "      <td>Apparetly they just started filming so imma go...</td>\n",
       "      <td>0.0000</td>\n",
       "      <td>0.000000</td>\n",
       "      <td>Neutral</td>\n",
       "      <td>Neutral</td>\n",
       "    </tr>\n",
       "    <tr>\n",
       "      <th>638475</th>\n",
       "      <td>2072531954</td>\n",
       "      <td>06-07-2009 21:12:35</td>\n",
       "      <td>edenhig</td>\n",
       "      <td>I would just like to say thank you from all of...</td>\n",
       "      <td>0.6124</td>\n",
       "      <td>0.000000</td>\n",
       "      <td>Positive</td>\n",
       "      <td>Neutral</td>\n",
       "    </tr>\n",
       "    <tr>\n",
       "      <th>638476</th>\n",
       "      <td>2072532046</td>\n",
       "      <td>06-07-2009 21:12:36</td>\n",
       "      <td>Gotjuicygirl</td>\n",
       "      <td>thanx love ! I definitely agree</td>\n",
       "      <td>0.8655</td>\n",
       "      <td>0.312500</td>\n",
       "      <td>Positive</td>\n",
       "      <td>Positive</td>\n",
       "    </tr>\n",
       "    <tr>\n",
       "      <th>638477</th>\n",
       "      <td>2072532066</td>\n",
       "      <td>06-07-2009 21:12:36</td>\n",
       "      <td>whitet</td>\n",
       "      <td>the ones from yesterday w/ the animals, VERY CUTE</td>\n",
       "      <td>0.6965</td>\n",
       "      <td>0.650000</td>\n",
       "      <td>Positive</td>\n",
       "      <td>Positive</td>\n",
       "    </tr>\n",
       "    <tr>\n",
       "      <th>638478</th>\n",
       "      <td>2072532109</td>\n",
       "      <td>06-07-2009 21:12:37</td>\n",
       "      <td>angeltarpov</td>\n",
       "      <td>hey Andrea, how are you? This is my new twitte...</td>\n",
       "      <td>0.9055</td>\n",
       "      <td>0.318182</td>\n",
       "      <td>Positive</td>\n",
       "      <td>Positive</td>\n",
       "    </tr>\n",
       "  </tbody>\n",
       "</table>\n",
       "<p>638479 rows × 8 columns</p>\n",
       "</div>"
      ],
      "text/plain": [
       "          tweet_ID       date_timestamp     twitter_user  \\\n",
       "0       1467810369  04-06-2009 22:19:45  _TheSpecialOne_   \n",
       "1       1467810672  04-06-2009 22:19:49    scotthamilton   \n",
       "2       1467810917  04-06-2009 22:19:53         mattycus   \n",
       "3       1467811184  04-06-2009 22:19:57          ElleCTF   \n",
       "4       1467811193  04-06-2009 22:19:57           Karoli   \n",
       "...            ...                  ...              ...   \n",
       "638474  2072531933  06-07-2009 21:12:35        Neo_drone   \n",
       "638475  2072531954  06-07-2009 21:12:35          edenhig   \n",
       "638476  2072532046  06-07-2009 21:12:36     Gotjuicygirl   \n",
       "638477  2072532066  06-07-2009 21:12:36           whitet   \n",
       "638478  2072532109  06-07-2009 21:12:37      angeltarpov   \n",
       "\n",
       "                                       cleaned_tweet_text  vader_score  \\\n",
       "0       - Awww, that's a bummer.  You shoulda got Davi...      -0.0173   \n",
       "1       is upset that he can't update his Facebook by ...      -0.7500   \n",
       "2       I dived many times for the ball. Managed to sa...       0.4939   \n",
       "3          my whole body feels itchy and like its on fire      -0.2500   \n",
       "4       no, it's not behaving at all. i'm mad. why am ...      -0.6597   \n",
       "...                                                   ...          ...   \n",
       "638474  Apparetly they just started filming so imma go...       0.0000   \n",
       "638475  I would just like to say thank you from all of...       0.6124   \n",
       "638476                    thanx love ! I definitely agree       0.8655   \n",
       "638477  the ones from yesterday w/ the animals, VERY CUTE       0.6965   \n",
       "638478  hey Andrea, how are you? This is my new twitte...       0.9055   \n",
       "\n",
       "        textblob_score vader_sentiment textblob_sentiment  \n",
       "0             0.216667        Negative           Positive  \n",
       "1             0.000000        Negative            Neutral  \n",
       "2             0.500000        Positive           Positive  \n",
       "3             0.200000        Negative           Positive  \n",
       "4            -0.625000        Negative           Negative  \n",
       "...                ...             ...                ...  \n",
       "638474        0.000000         Neutral            Neutral  \n",
       "638475        0.000000        Positive            Neutral  \n",
       "638476        0.312500        Positive           Positive  \n",
       "638477        0.650000        Positive           Positive  \n",
       "638478        0.318182        Positive           Positive  \n",
       "\n",
       "[638479 rows x 8 columns]"
      ]
     },
     "execution_count": 3,
     "metadata": {},
     "output_type": "execute_result"
    }
   ],
   "source": [
    "tweets_dataset_new"
   ]
  },
  {
   "cell_type": "markdown",
   "id": "8db9400a",
   "metadata": {},
   "source": [
    "# Preparing the data for both the LSTM and SARIMA models"
   ]
  },
  {
   "cell_type": "markdown",
   "id": "9a22e95a",
   "metadata": {},
   "source": [
    "Convert the date_timestamp to a datetime type.\n",
    "\n",
    "Set it as the index of the DataFrame.\n",
    "\n",
    "Check for missing values and irregular intervals if present."
   ]
  },
  {
   "cell_type": "code",
   "execution_count": 4,
   "id": "b0f4d6d0",
   "metadata": {},
   "outputs": [
    {
     "data": {
      "text/plain": [
       "(date_timestamp\n",
       " 2009-04-06    0.142160\n",
       " 2009-04-07    0.162342\n",
       " 2009-04-08         NaN\n",
       " 2009-04-09         NaN\n",
       " 2009-04-10         NaN\n",
       " Freq: D, Name: vader_score, dtype: float64,\n",
       " 47)"
      ]
     },
     "execution_count": 4,
     "metadata": {},
     "output_type": "execute_result"
    }
   ],
   "source": [
    "# Convert the 'date_timestamp' to datetime and set as index\n",
    "tweets_dataset_new['date_timestamp'] = pd.to_datetime(tweets_dataset_new['date_timestamp'])\n",
    "tweets_dataset_new.set_index('date_timestamp', inplace=True)\n",
    "\n",
    "# Resample the data to a consistent interval if necessary and check for missing values\n",
    "data_frequency = tweets_dataset_new['vader_score'].resample('D').mean()  # Daily frequency chosen for illustration\n",
    "\n",
    "# Check for missing values in the resampled data\n",
    "missing_data = data_frequency.isna().sum()\n",
    "\n",
    "data_frequency.head(), missing_data\n"
   ]
  },
  {
   "cell_type": "markdown",
   "id": "5d433fa3",
   "metadata": {},
   "source": [
    "**Filling Missing Values**"
   ]
  },
  {
   "cell_type": "markdown",
   "id": "7f203da0",
   "metadata": {},
   "source": [
    "Fill the missing values using linear interpolation, which is a reasonable approach for time series that do not exhibit strong seasonal patterns over short periods missing.\n",
    "\n",
    "This step is essential for SARIMA, and while LSTM can handle some gaps with sequence-based learning, filling gaps helps maintain temporal consistency."
   ]
  },
  {
   "cell_type": "code",
   "execution_count": 5,
   "id": "08e1a415",
   "metadata": {},
   "outputs": [
    {
     "data": {
      "text/plain": [
       "(date_timestamp\n",
       " 2009-04-06    0.142160\n",
       " 2009-04-07    0.162342\n",
       " 2009-04-08    0.162945\n",
       " 2009-04-09    0.163548\n",
       " 2009-04-10    0.164150\n",
       " Freq: D, Name: vader_score, dtype: float64,\n",
       " 0)"
      ]
     },
     "execution_count": 5,
     "metadata": {},
     "output_type": "execute_result"
    }
   ],
   "source": [
    "# Fill missing values using linear interpolation\n",
    "filled_data = data_frequency.interpolate(method='linear')\n",
    "\n",
    "# Check again for any remaining missing values\n",
    "remaining_missing = filled_data.isna().sum()\n",
    "\n",
    "# Display the filled data to confirm changes\n",
    "filled_data.head(), remaining_missing\n"
   ]
  },
  {
   "cell_type": "markdown",
   "id": "6936cef6",
   "metadata": {},
   "source": [
    "## LSTM (Long Short-Term Memory) Model Implementation"
   ]
  },
  {
   "cell_type": "code",
   "execution_count": 6,
   "id": "1d414c89",
   "metadata": {},
   "outputs": [
    {
     "data": {
      "text/plain": [
       "((49, 1, 1), (12, 1, 1))"
      ]
     },
     "execution_count": 6,
     "metadata": {},
     "output_type": "execute_result"
    }
   ],
   "source": [
    "# Normalize the data\n",
    "\n",
    "scaler = MinMaxScaler(feature_range=(0, 1))\n",
    "scaled_data = scaler.fit_transform(filled_data.values.reshape(-1, 1))\n",
    "\n",
    "# Splitting the data into train and test sets\n",
    "\n",
    "train_size = int(len(scaled_data) * 0.80)\n",
    "test_size = len(scaled_data) - train_size\n",
    "train, test = scaled_data[0:train_size, :], scaled_data[train_size:len(scaled_data), :]\n",
    "\n",
    "# Function to create dataset for LSTM\n",
    "\n",
    "def create_dataset(dataset, look_back=1):\n",
    "    dataX, dataY = [], []\n",
    "    for i in range(len(dataset)-look_back):\n",
    "        a = dataset[i:(i+look_back), 0]\n",
    "        dataX.append(a)\n",
    "        dataY.append(dataset[i + look_back, 0])\n",
    "    return np.array(dataX), np.array(dataY)\n",
    "\n",
    "# Specifying the look_back period\n",
    "\n",
    "look_back = 1\n",
    "trainX, trainY = create_dataset(train, look_back)\n",
    "testX, testY = create_dataset(test, look_back)\n",
    "\n",
    "# Reshape input to be [samples, time steps, features]\n",
    "\n",
    "trainX = np.reshape(trainX, (trainX.shape[0], 1, trainX.shape[1]))\n",
    "testX = np.reshape(testX, (testX.shape[0], 1, testX.shape[1]))\n",
    "\n",
    "trainX.shape, testX.shape"
   ]
  },
  {
   "cell_type": "markdown",
   "id": "7199afb3",
   "metadata": {},
   "source": [
    "## LSTM (Long Short-Term Memory) Model Implementation"
   ]
  },
  {
   "cell_type": "markdown",
   "id": "0f191524",
   "metadata": {},
   "source": [
    "Define the LSTM network architecture. Given the short time series, we'll use a simple model with a minimal number of LSTM units to avoid overfitting:"
   ]
  },
  {
   "cell_type": "markdown",
   "id": "8641ca65",
   "metadata": {},
   "source": [
    "LSTM Layer: A few units (e.g., 4) to capture dependencies in the data.\n",
    "\n",
    "Dropout Layer: To prevent overfitting by randomly omitting subset of features during training.\n",
    "\n",
    "Dense Layer: To produce the output from the LSTM's output."
   ]
  },
  {
   "cell_type": "code",
   "execution_count": 7,
   "id": "23ef1ccd",
   "metadata": {},
   "outputs": [
    {
     "data": {
      "text/html": [
       "<pre style=\"white-space:pre;overflow-x:auto;line-height:normal;font-family:Menlo,'DejaVu Sans Mono',consolas,'Courier New',monospace\"><span style=\"font-weight: bold\">Model: \"sequential\"</span>\n",
       "</pre>\n"
      ],
      "text/plain": [
       "\u001b[1mModel: \"sequential\"\u001b[0m\n"
      ]
     },
     "metadata": {},
     "output_type": "display_data"
    },
    {
     "data": {
      "text/html": [
       "<pre style=\"white-space:pre;overflow-x:auto;line-height:normal;font-family:Menlo,'DejaVu Sans Mono',consolas,'Courier New',monospace\">┏━━━━━━━━━━━━━━━━━━━━━━━━━━━━━━━━━┳━━━━━━━━━━━━━━━━━━━━━━━━┳━━━━━━━━━━━━━━━┓\n",
       "┃<span style=\"font-weight: bold\"> Layer (type)                    </span>┃<span style=\"font-weight: bold\"> Output Shape           </span>┃<span style=\"font-weight: bold\">       Param # </span>┃\n",
       "┡━━━━━━━━━━━━━━━━━━━━━━━━━━━━━━━━━╇━━━━━━━━━━━━━━━━━━━━━━━━╇━━━━━━━━━━━━━━━┩\n",
       "│ lstm (<span style=\"color: #0087ff; text-decoration-color: #0087ff\">LSTM</span>)                     │ (<span style=\"color: #00d7ff; text-decoration-color: #00d7ff\">None</span>, <span style=\"color: #00af00; text-decoration-color: #00af00\">4</span>)              │            <span style=\"color: #00af00; text-decoration-color: #00af00\">96</span> │\n",
       "├─────────────────────────────────┼────────────────────────┼───────────────┤\n",
       "│ dropout (<span style=\"color: #0087ff; text-decoration-color: #0087ff\">Dropout</span>)               │ (<span style=\"color: #00d7ff; text-decoration-color: #00d7ff\">None</span>, <span style=\"color: #00af00; text-decoration-color: #00af00\">4</span>)              │             <span style=\"color: #00af00; text-decoration-color: #00af00\">0</span> │\n",
       "├─────────────────────────────────┼────────────────────────┼───────────────┤\n",
       "│ dense (<span style=\"color: #0087ff; text-decoration-color: #0087ff\">Dense</span>)                   │ (<span style=\"color: #00d7ff; text-decoration-color: #00d7ff\">None</span>, <span style=\"color: #00af00; text-decoration-color: #00af00\">1</span>)              │             <span style=\"color: #00af00; text-decoration-color: #00af00\">5</span> │\n",
       "└─────────────────────────────────┴────────────────────────┴───────────────┘\n",
       "</pre>\n"
      ],
      "text/plain": [
       "┏━━━━━━━━━━━━━━━━━━━━━━━━━━━━━━━━━┳━━━━━━━━━━━━━━━━━━━━━━━━┳━━━━━━━━━━━━━━━┓\n",
       "┃\u001b[1m \u001b[0m\u001b[1mLayer (type)                   \u001b[0m\u001b[1m \u001b[0m┃\u001b[1m \u001b[0m\u001b[1mOutput Shape          \u001b[0m\u001b[1m \u001b[0m┃\u001b[1m \u001b[0m\u001b[1m      Param #\u001b[0m\u001b[1m \u001b[0m┃\n",
       "┡━━━━━━━━━━━━━━━━━━━━━━━━━━━━━━━━━╇━━━━━━━━━━━━━━━━━━━━━━━━╇━━━━━━━━━━━━━━━┩\n",
       "│ lstm (\u001b[38;5;33mLSTM\u001b[0m)                     │ (\u001b[38;5;45mNone\u001b[0m, \u001b[38;5;34m4\u001b[0m)              │            \u001b[38;5;34m96\u001b[0m │\n",
       "├─────────────────────────────────┼────────────────────────┼───────────────┤\n",
       "│ dropout (\u001b[38;5;33mDropout\u001b[0m)               │ (\u001b[38;5;45mNone\u001b[0m, \u001b[38;5;34m4\u001b[0m)              │             \u001b[38;5;34m0\u001b[0m │\n",
       "├─────────────────────────────────┼────────────────────────┼───────────────┤\n",
       "│ dense (\u001b[38;5;33mDense\u001b[0m)                   │ (\u001b[38;5;45mNone\u001b[0m, \u001b[38;5;34m1\u001b[0m)              │             \u001b[38;5;34m5\u001b[0m │\n",
       "└─────────────────────────────────┴────────────────────────┴───────────────┘\n"
      ]
     },
     "metadata": {},
     "output_type": "display_data"
    },
    {
     "data": {
      "text/html": [
       "<pre style=\"white-space:pre;overflow-x:auto;line-height:normal;font-family:Menlo,'DejaVu Sans Mono',consolas,'Courier New',monospace\"><span style=\"font-weight: bold\"> Total params: </span><span style=\"color: #00af00; text-decoration-color: #00af00\">101</span> (404.00 B)\n",
       "</pre>\n"
      ],
      "text/plain": [
       "\u001b[1m Total params: \u001b[0m\u001b[38;5;34m101\u001b[0m (404.00 B)\n"
      ]
     },
     "metadata": {},
     "output_type": "display_data"
    },
    {
     "data": {
      "text/html": [
       "<pre style=\"white-space:pre;overflow-x:auto;line-height:normal;font-family:Menlo,'DejaVu Sans Mono',consolas,'Courier New',monospace\"><span style=\"font-weight: bold\"> Trainable params: </span><span style=\"color: #00af00; text-decoration-color: #00af00\">101</span> (404.00 B)\n",
       "</pre>\n"
      ],
      "text/plain": [
       "\u001b[1m Trainable params: \u001b[0m\u001b[38;5;34m101\u001b[0m (404.00 B)\n"
      ]
     },
     "metadata": {},
     "output_type": "display_data"
    },
    {
     "data": {
      "text/html": [
       "<pre style=\"white-space:pre;overflow-x:auto;line-height:normal;font-family:Menlo,'DejaVu Sans Mono',consolas,'Courier New',monospace\"><span style=\"font-weight: bold\"> Non-trainable params: </span><span style=\"color: #00af00; text-decoration-color: #00af00\">0</span> (0.00 B)\n",
       "</pre>\n"
      ],
      "text/plain": [
       "\u001b[1m Non-trainable params: \u001b[0m\u001b[38;5;34m0\u001b[0m (0.00 B)\n"
      ]
     },
     "metadata": {},
     "output_type": "display_data"
    }
   ],
   "source": [
    "\n",
    "\n",
    "# Define the LSTM model\n",
    "\n",
    "model = Sequential()\n",
    "model.add(LSTM(4, input_shape=(1, look_back)))\n",
    "model.add(Dropout(0.2))\n",
    "model.add(Dense(1))\n",
    "\n",
    "# Compile the model\n",
    "\n",
    "model.compile(loss='mean_squared_error', optimizer='adam')\n",
    "\n",
    "# Summary of the model\n",
    "\n",
    "model.summary()"
   ]
  },
  {
   "cell_type": "markdown",
   "id": "0c45cf72",
   "metadata": {},
   "source": [
    "This model comprises three layers: an LSTM layer, a dropout layer, and a dense layer.\n",
    "\n",
    "The LSTM layer, configured with 4 units as indicated by the output shape (None, 4), is the core component where the main learning from sequence data occurs.\n",
    "\n",
    "The model parameters associated with this layer, totaling 96, include weights for the input, recurrent connections, and biases, which are crucial for the LSTM's ability to capture temporal dependencies in the data.\n",
    "\n",
    "The dropout layer following the LSTM has an output shape identical to its input (None, 4) and contributes zero parameters to the model.\n",
    "\n",
    "The dense layer, which transforms the LSTM output to the final prediction shape (None, 1), has 5 parameters.\n",
    "\n",
    "This layer essentially forms the output from the LSTM processed features into the predicted vader_score, adjusting the dimension from 4 to 1."
   ]
  },
  {
   "cell_type": "code",
   "execution_count": 8,
   "id": "a5c91c95",
   "metadata": {},
   "outputs": [
    {
     "name": "stdout",
     "output_type": "stream",
     "text": [
      "Epoch 1/100\n",
      "49/49 - 0s - 7ms/step - loss: 0.0990\n",
      "Epoch 2/100\n",
      "49/49 - 0s - 587us/step - loss: 0.0565\n",
      "Epoch 3/100\n",
      "49/49 - 0s - 407us/step - loss: 0.0324\n",
      "Epoch 4/100\n",
      "49/49 - 0s - 375us/step - loss: 0.0155\n",
      "Epoch 5/100\n",
      "49/49 - 0s - 392us/step - loss: 0.0193\n",
      "Epoch 6/100\n",
      "49/49 - 0s - 399us/step - loss: 0.0176\n",
      "Epoch 7/100\n",
      "49/49 - 0s - 399us/step - loss: 0.0081\n",
      "Epoch 8/100\n",
      "49/49 - 0s - 392us/step - loss: 0.0138\n",
      "Epoch 9/100\n",
      "49/49 - 0s - 386us/step - loss: 0.0125\n",
      "Epoch 10/100\n",
      "49/49 - 0s - 387us/step - loss: 0.0128\n",
      "Epoch 11/100\n",
      "49/49 - 0s - 393us/step - loss: 0.0157\n",
      "Epoch 12/100\n",
      "49/49 - 0s - 406us/step - loss: 0.0120\n",
      "Epoch 13/100\n",
      "49/49 - 0s - 387us/step - loss: 0.0100\n",
      "Epoch 14/100\n",
      "49/49 - 0s - 393us/step - loss: 0.0162\n",
      "Epoch 15/100\n",
      "49/49 - 0s - 390us/step - loss: 0.0132\n",
      "Epoch 16/100\n",
      "49/49 - 0s - 389us/step - loss: 0.0117\n",
      "Epoch 17/100\n",
      "49/49 - 0s - 388us/step - loss: 0.0100\n",
      "Epoch 18/100\n",
      "49/49 - 0s - 396us/step - loss: 0.0167\n",
      "Epoch 19/100\n",
      "49/49 - 0s - 397us/step - loss: 0.0130\n",
      "Epoch 20/100\n",
      "49/49 - 0s - 391us/step - loss: 0.0096\n",
      "Epoch 21/100\n",
      "49/49 - 0s - 398us/step - loss: 0.0122\n",
      "Epoch 22/100\n",
      "49/49 - 0s - 390us/step - loss: 0.0144\n",
      "Epoch 23/100\n",
      "49/49 - 0s - 391us/step - loss: 0.0122\n",
      "Epoch 24/100\n",
      "49/49 - 0s - 398us/step - loss: 0.0118\n",
      "Epoch 25/100\n",
      "49/49 - 0s - 394us/step - loss: 0.0115\n",
      "Epoch 26/100\n",
      "49/49 - 0s - 394us/step - loss: 0.0112\n",
      "Epoch 27/100\n",
      "49/49 - 0s - 387us/step - loss: 0.0131\n",
      "Epoch 28/100\n",
      "49/49 - 0s - 395us/step - loss: 0.0113\n",
      "Epoch 29/100\n",
      "49/49 - 0s - 396us/step - loss: 0.0109\n",
      "Epoch 30/100\n",
      "49/49 - 0s - 386us/step - loss: 0.0119\n",
      "Epoch 31/100\n",
      "49/49 - 0s - 396us/step - loss: 0.0096\n",
      "Epoch 32/100\n",
      "49/49 - 0s - 398us/step - loss: 0.0122\n",
      "Epoch 33/100\n",
      "49/49 - 0s - 433us/step - loss: 0.0100\n",
      "Epoch 34/100\n",
      "49/49 - 0s - 387us/step - loss: 0.0123\n",
      "Epoch 35/100\n",
      "49/49 - 0s - 394us/step - loss: 0.0113\n",
      "Epoch 36/100\n",
      "49/49 - 0s - 392us/step - loss: 0.0121\n",
      "Epoch 37/100\n",
      "49/49 - 0s - 394us/step - loss: 0.0118\n",
      "Epoch 38/100\n",
      "49/49 - 0s - 388us/step - loss: 0.0131\n",
      "Epoch 39/100\n",
      "49/49 - 0s - 400us/step - loss: 0.0102\n",
      "Epoch 40/100\n",
      "49/49 - 0s - 396us/step - loss: 0.0111\n",
      "Epoch 41/100\n",
      "49/49 - 0s - 389us/step - loss: 0.0150\n",
      "Epoch 42/100\n",
      "49/49 - 0s - 394us/step - loss: 0.0125\n",
      "Epoch 43/100\n",
      "49/49 - 0s - 403us/step - loss: 0.0110\n",
      "Epoch 44/100\n",
      "49/49 - 0s - 408us/step - loss: 0.0120\n",
      "Epoch 45/100\n",
      "49/49 - 0s - 393us/step - loss: 0.0132\n",
      "Epoch 46/100\n",
      "49/49 - 0s - 386us/step - loss: 0.0136\n",
      "Epoch 47/100\n",
      "49/49 - 0s - 545us/step - loss: 0.0105\n",
      "Epoch 48/100\n",
      "49/49 - 0s - 390us/step - loss: 0.0113\n",
      "Epoch 49/100\n",
      "49/49 - 0s - 389us/step - loss: 0.0105\n",
      "Epoch 50/100\n",
      "49/49 - 0s - 384us/step - loss: 0.0088\n",
      "Epoch 51/100\n",
      "49/49 - 0s - 377us/step - loss: 0.0098\n",
      "Epoch 52/100\n",
      "49/49 - 0s - 373us/step - loss: 0.0135\n",
      "Epoch 53/100\n",
      "49/49 - 0s - 362us/step - loss: 0.0109\n",
      "Epoch 54/100\n",
      "49/49 - 0s - 392us/step - loss: 0.0117\n",
      "Epoch 55/100\n",
      "49/49 - 0s - 399us/step - loss: 0.0104\n",
      "Epoch 56/100\n",
      "49/49 - 0s - 371us/step - loss: 0.0109\n",
      "Epoch 57/100\n",
      "49/49 - 0s - 381us/step - loss: 0.0124\n",
      "Epoch 58/100\n",
      "49/49 - 0s - 373us/step - loss: 0.0108\n",
      "Epoch 59/100\n",
      "49/49 - 0s - 361us/step - loss: 0.0083\n",
      "Epoch 60/100\n",
      "49/49 - 0s - 360us/step - loss: 0.0135\n",
      "Epoch 61/100\n",
      "49/49 - 0s - 363us/step - loss: 0.0110\n",
      "Epoch 62/100\n",
      "49/49 - 0s - 362us/step - loss: 0.0091\n",
      "Epoch 63/100\n",
      "49/49 - 0s - 359us/step - loss: 0.0106\n",
      "Epoch 64/100\n",
      "49/49 - 0s - 359us/step - loss: 0.0101\n",
      "Epoch 65/100\n",
      "49/49 - 0s - 360us/step - loss: 0.0104\n",
      "Epoch 66/100\n",
      "49/49 - 0s - 359us/step - loss: 0.0136\n",
      "Epoch 67/100\n",
      "49/49 - 0s - 358us/step - loss: 0.0097\n",
      "Epoch 68/100\n",
      "49/49 - 0s - 355us/step - loss: 0.0103\n",
      "Epoch 69/100\n",
      "49/49 - 0s - 356us/step - loss: 0.0105\n",
      "Epoch 70/100\n",
      "49/49 - 0s - 357us/step - loss: 0.0115\n",
      "Epoch 71/100\n",
      "49/49 - 0s - 356us/step - loss: 0.0093\n",
      "Epoch 72/100\n",
      "49/49 - 0s - 360us/step - loss: 0.0119\n",
      "Epoch 73/100\n",
      "49/49 - 0s - 359us/step - loss: 0.0105\n",
      "Epoch 74/100\n",
      "49/49 - 0s - 358us/step - loss: 0.0095\n",
      "Epoch 75/100\n",
      "49/49 - 0s - 353us/step - loss: 0.0130\n",
      "Epoch 76/100\n",
      "49/49 - 0s - 362us/step - loss: 0.0090\n",
      "Epoch 77/100\n",
      "49/49 - 0s - 369us/step - loss: 0.0105\n",
      "Epoch 78/100\n",
      "49/49 - 0s - 365us/step - loss: 0.0116\n",
      "Epoch 79/100\n",
      "49/49 - 0s - 364us/step - loss: 0.0094\n",
      "Epoch 80/100\n",
      "49/49 - 0s - 359us/step - loss: 0.0098\n",
      "Epoch 81/100\n",
      "49/49 - 0s - 359us/step - loss: 0.0104\n",
      "Epoch 82/100\n",
      "49/49 - 0s - 356us/step - loss: 0.0099\n",
      "Epoch 83/100\n",
      "49/49 - 0s - 358us/step - loss: 0.0111\n",
      "Epoch 84/100\n",
      "49/49 - 0s - 362us/step - loss: 0.0111\n",
      "Epoch 85/100\n",
      "49/49 - 0s - 356us/step - loss: 0.0098\n",
      "Epoch 86/100\n",
      "49/49 - 0s - 366us/step - loss: 0.0090\n",
      "Epoch 87/100\n",
      "49/49 - 0s - 367us/step - loss: 0.0106\n",
      "Epoch 88/100\n",
      "49/49 - 0s - 363us/step - loss: 0.0112\n",
      "Epoch 89/100\n",
      "49/49 - 0s - 356us/step - loss: 0.0100\n",
      "Epoch 90/100\n",
      "49/49 - 0s - 358us/step - loss: 0.0107\n",
      "Epoch 91/100\n",
      "49/49 - 0s - 366us/step - loss: 0.0122\n",
      "Epoch 92/100\n",
      "49/49 - 0s - 371us/step - loss: 0.0119\n",
      "Epoch 93/100\n",
      "49/49 - 0s - 362us/step - loss: 0.0105\n",
      "Epoch 94/100\n",
      "49/49 - 0s - 357us/step - loss: 0.0100\n",
      "Epoch 95/100\n",
      "49/49 - 0s - 356us/step - loss: 0.0105\n",
      "Epoch 96/100\n",
      "49/49 - 0s - 354us/step - loss: 0.0098\n",
      "Epoch 97/100\n",
      "49/49 - 0s - 508us/step - loss: 0.0094\n",
      "Epoch 98/100\n",
      "49/49 - 0s - 382us/step - loss: 0.0109\n",
      "Epoch 99/100\n",
      "49/49 - 0s - 378us/step - loss: 0.0112\n",
      "Epoch 100/100\n",
      "49/49 - 0s - 365us/step - loss: 0.0103\n",
      "\u001b[1m2/2\u001b[0m \u001b[32m━━━━━━━━━━━━━━━━━━━━\u001b[0m\u001b[37m\u001b[0m \u001b[1m0s\u001b[0m 37ms/step\n",
      "\u001b[1m1/1\u001b[0m \u001b[32m━━━━━━━━━━━━━━━━━━━━\u001b[0m\u001b[37m\u001b[0m \u001b[1m0s\u001b[0m 5ms/step\n",
      "Train Score: 0.01 RMSE\n",
      "Test Score: 0.01 RMSE\n"
     ]
    }
   ],
   "source": [
    "# Define the LSTM model\n",
    "\n",
    "model = Sequential()\n",
    "model.add(LSTM(4, input_shape=(1, look_back)))\n",
    "model.add(Dropout(0.2))\n",
    "model.add(Dense(1))\n",
    "\n",
    "# Compile the model\n",
    "\n",
    "model.compile(loss='mean_squared_error', optimizer='adam')\n",
    "\n",
    "# Train the model\n",
    "\n",
    "model.fit(trainX, trainY, epochs=100, batch_size=1, verbose=2)\n",
    "\n",
    "# Make predictions\n",
    "\n",
    "trainPredict = model.predict(trainX)\n",
    "testPredict = model.predict(testX)\n",
    "\n",
    "# Invert predictions to original scale\n",
    "\n",
    "trainPredict = scaler.inverse_transform(trainPredict)\n",
    "trainY_inv = scaler.inverse_transform([trainY])\n",
    "testPredict = scaler.inverse_transform(testPredict)\n",
    "testY_inv = scaler.inverse_transform([testY])\n",
    "\n",
    "# Calculate root mean squared error\n",
    "\n",
    "from sklearn.metrics import mean_squared_error\n",
    "trainScore = mean_squared_error(trainY_inv[0], trainPredict[:,0], squared=False)\n",
    "testScore = mean_squared_error(testY_inv[0], testPredict[:,0], squared=False)\n",
    "\n",
    "print('Train Score: %.2f RMSE' % (trainScore))\n",
    "print('Test Score: %.2f RMSE' % (testScore))\n"
   ]
  },
  {
   "cell_type": "markdown",
   "id": "8d9e8932",
   "metadata": {},
   "source": [
    "The model demonstrates consistent performance, with loss values ranging from approximately 0.0093 to 0.0126 per epoch, indicating slight fluctuations in model learning from one epoch to another. The final epochs show the model stabilizing with a loss of 0.0110 at epoch 100.\n",
    "\n",
    "This suggests that the model has potentially reached a point of minimal improvement in loss reduction, indicating that additional training might not result in significant gains.\n",
    "\n",
    "The completion of training is followed by the reporting of performance metrics, specifically the Root Mean Squared Error (RMSE) for both training and testing datasets. Both scores are reported as 0.01 RMSE, highlighting that the model has achieved a high level of accuracy and suggesting good generalization from training to testing data.\n",
    "\n",
    "The consistency of the train and test RMSE scores is an excellent indicator of the model's reliability and indicates an absence of overfitting. The performance metrics suggest that the model is well-tuned to predict outcomes with a high degree of precision, which is essential for tasks involving sentiment analysis based on the vader_score."
   ]
  },
  {
   "cell_type": "code",
   "execution_count": 9,
   "id": "4f29b6a8",
   "metadata": {},
   "outputs": [
    {
     "name": "stdout",
     "output_type": "stream",
     "text": [
      "   vader_score  predicted_vader_score\n",
      "0       0.3226               0.170509\n",
      "1       0.8760               0.170594\n",
      "2       0.8513               0.170679\n",
      "3       0.2732               0.170764\n",
      "4       0.5859               0.170850\n"
     ]
    }
   ],
   "source": [
    "# Convert the predictions array into a DataFrame\n",
    "\n",
    "predictions_df = pd.DataFrame(testPredict, columns=['predicted_vader_score'])\n",
    "\n",
    "# Reset index on the dataset for proper concatenation if necessary\n",
    "\n",
    "# tweets_dataset_new.reset_index(inplace=True, drop=True)\n",
    "\n",
    "# Slice the original dataset to match the size of the predictions\n",
    "\n",
    "actual_scores = tweets_dataset_new['vader_score'][-len(predictions_df):].reset_index(drop=True)\n",
    "\n",
    "# Combine actual scores and predictions into a single DataFrame\n",
    "comparison_df = pd.concat([actual_scores, predictions_df], axis=1)\n",
    "\n",
    "# Display the DataFrame\n",
    "print(comparison_df.head())  # Print the first few rows to verify\n",
    "\n",
    "# Export this DataFrame to a CSV file for further analysis or reporting\n",
    "# comparison_df.to_csv('vader_score_comparison.csv', index=False)"
   ]
  },
  {
   "cell_type": "markdown",
   "id": "8533c172",
   "metadata": {},
   "source": [
    "**Prediction Consistency vs. Actual Variability**\n",
    "\n",
    "**The predicted vader_score** values show a very small incremental increase between consecutive predictions, indicating that the model is producing nearly constant values across different inputs.\n",
    "\n",
    "In contrast, the **actual vader_score** values exhibit significant variability. For example, the score jumps from 0.3226 to 0.8760 from the first to the second observation, and then decreases to 0.2732 by the third observation. \n",
    "\n",
    "This indicates that the actual data contains a much higher degree of variance and fluctuation in sentiment scores than is captured by the model's predictions."
   ]
  },
  {
   "cell_type": "markdown",
   "id": "f00ed685",
   "metadata": {},
   "source": [
    "# SARIMA model"
   ]
  },
  {
   "cell_type": "markdown",
   "id": "34d879ce",
   "metadata": {},
   "source": [
    "Start by examining the Autocorrelation Function (ACF) and Partial Autocorrelation Function (PACF) plots.\n",
    "\n",
    "These will help to identify the appropriate parameters for the SARIMA model, specifically:\n",
    "\n",
    "p: The number of autoregressive terms (lags of the stationarized series).\n",
    "\n",
    "d: The degree of differencing (the number of times the data had to be differenced to make it stationary).\n",
    "\n",
    "q: The number of lagged forecast errors in the prediction equation (lags of the forecast errors)."
   ]
  },
  {
   "cell_type": "code",
   "execution_count": 10,
   "id": "f2dd7899",
   "metadata": {},
   "outputs": [
    {
     "data": {
      "image/png": "[encoded data removed]",
      "text/plain": [
       "<Figure size 1600x400 with 2 Axes>"
      ]
     },
     "metadata": {},
     "output_type": "display_data"
    }
   ],
   "source": [
    "# ACF and PACF plots\n",
    "\n",
    "fig, axes = plt.subplots(1, 2, figsize=(16, 4))\n",
    "\n",
    "# Plot ACF\n",
    "\n",
    "plot_acf(filled_data, ax=axes[0])\n",
    "\n",
    "# Plot PACF\n",
    "\n",
    "plot_pacf(filled_data, ax=axes[1])\n",
    "\n",
    "plt.show()"
   ]
  },
  {
   "cell_type": "markdown",
   "id": "80ed3fa8",
   "metadata": {},
   "source": [
    "The Autocorrelation Function (ACF) and Partial Autocorrelation Function (PACF) plots provide insight into the potential parameters for our SARIMA model.\n",
    "\n",
    "The PACF plot shows a sharp cut-off after the first lag, suggesting that an AR(1) model might be appropriate (p=1). \n",
    "\n",
    "The ACF plot tails off, indicating that we may need a few MA terms."
   ]
  },
  {
   "cell_type": "markdown",
   "id": "adeb0870",
   "metadata": {},
   "source": [
    "# SARIMA Model Configuration and Fitting"
   ]
  },
  {
   "cell_type": "markdown",
   "id": "fe1cc217",
   "metadata": {},
   "source": [
    "Based on the initial analysis, I'll start with a SARIMA(1,0,1) model. Since no strong seasonal patterns are immediately evident from our brief analysis and considering the data is short and daily without clear seasonal breaks, I will not include seasonal components initially."
   ]
  },
  {
   "cell_type": "code",
   "execution_count": 11,
   "id": "4e1b9409",
   "metadata": {},
   "outputs": [
    {
     "data": {
      "text/html": [
       "<table class=\"simpletable\">\n",
       "<caption>SARIMAX Results</caption>\n",
       "<tr>\n",
       "  <th>Dep. Variable:</th>      <td>vader_score</td>   <th>  No. Observations:  </th>    <td>63</td>   \n",
       "</tr>\n",
       "<tr>\n",
       "  <th>Model:</th>           <td>SARIMAX(1, 0, 1)</td> <th>  Log Likelihood     </th>  <td>215.680</td>\n",
       "</tr>\n",
       "<tr>\n",
       "  <th>Date:</th>            <td>Sun, 19 May 2024</td> <th>  AIC                </th> <td>-425.361</td>\n",
       "</tr>\n",
       "<tr>\n",
       "  <th>Time:</th>                <td>23:09:23</td>     <th>  BIC                </th> <td>-419.028</td>\n",
       "</tr>\n",
       "<tr>\n",
       "  <th>Sample:</th>             <td>04-06-2009</td>    <th>  HQIC               </th> <td>-422.879</td>\n",
       "</tr>\n",
       "<tr>\n",
       "  <th></th>                   <td>- 06-07-2009</td>   <th>                     </th>     <td> </td>   \n",
       "</tr>\n",
       "<tr>\n",
       "  <th>Covariance Type:</th>        <td>opg</td>       <th>                     </th>     <td> </td>   \n",
       "</tr>\n",
       "</table>\n",
       "<table class=\"simpletable\">\n",
       "<tr>\n",
       "     <td></td>       <th>coef</th>     <th>std err</th>      <th>z</th>      <th>P>|z|</th>  <th>[0.025</th>    <th>0.975]</th>  \n",
       "</tr>\n",
       "<tr>\n",
       "  <th>ar.L1</th>  <td>    1.0012</td> <td>    0.002</td> <td>  617.276</td> <td> 0.000</td> <td>    0.998</td> <td>    1.004</td>\n",
       "</tr>\n",
       "<tr>\n",
       "  <th>ma.L1</th>  <td>   -0.7679</td> <td>    0.063</td> <td>  -12.254</td> <td> 0.000</td> <td>   -0.891</td> <td>   -0.645</td>\n",
       "</tr>\n",
       "<tr>\n",
       "  <th>sigma2</th> <td> 4.892e-05</td> <td> 3.98e-06</td> <td>   12.289</td> <td> 0.000</td> <td> 4.11e-05</td> <td> 5.67e-05</td>\n",
       "</tr>\n",
       "</table>\n",
       "<table class=\"simpletable\">\n",
       "<tr>\n",
       "  <th>Ljung-Box (L1) (Q):</th>     <td>1.57</td> <th>  Jarque-Bera (JB):  </th> <td>372.70</td>\n",
       "</tr>\n",
       "<tr>\n",
       "  <th>Prob(Q):</th>                <td>0.21</td> <th>  Prob(JB):          </th>  <td>0.00</td> \n",
       "</tr>\n",
       "<tr>\n",
       "  <th>Heteroskedasticity (H):</th> <td>9.05</td> <th>  Skew:              </th>  <td>1.72</td> \n",
       "</tr>\n",
       "<tr>\n",
       "  <th>Prob(H) (two-sided):</th>    <td>0.00</td> <th>  Kurtosis:          </th>  <td>14.61</td>\n",
       "</tr>\n",
       "</table><br/><br/>Warnings:<br/>[1] Covariance matrix calculated using the outer product of gradients (complex-step)."
      ],
      "text/latex": [
       "\\begin{center}\n",
       "\\begin{tabular}{lclc}\n",
       "\\toprule\n",
       "\\textbf{Dep. Variable:}          &   vader\\_score   & \\textbf{  No. Observations:  } &     63      \\\\\n",
       "\\textbf{Model:}                  & SARIMAX(1, 0, 1) & \\textbf{  Log Likelihood     } &  215.680    \\\\\n",
       "\\textbf{Date:}                   & Sun, 19 May 2024 & \\textbf{  AIC                } &  -425.361   \\\\\n",
       "\\textbf{Time:}                   &     23:09:23     & \\textbf{  BIC                } &  -419.028   \\\\\n",
       "\\textbf{Sample:}                 &    04-06-2009    & \\textbf{  HQIC               } &  -422.879   \\\\\n",
       "\\textbf{}                        &   - 06-07-2009   & \\textbf{                     } &             \\\\\n",
       "\\textbf{Covariance Type:}        &       opg        & \\textbf{                     } &             \\\\\n",
       "\\bottomrule\n",
       "\\end{tabular}\n",
       "\\begin{tabular}{lcccccc}\n",
       "                & \\textbf{coef} & \\textbf{std err} & \\textbf{z} & \\textbf{P$> |$z$|$} & \\textbf{[0.025} & \\textbf{0.975]}  \\\\\n",
       "\\midrule\n",
       "\\textbf{ar.L1}  &       1.0012  &        0.002     &   617.276  &         0.000        &        0.998    &        1.004     \\\\\n",
       "\\textbf{ma.L1}  &      -0.7679  &        0.063     &   -12.254  &         0.000        &       -0.891    &       -0.645     \\\\\n",
       "\\textbf{sigma2} &    4.892e-05  &     3.98e-06     &    12.289  &         0.000        &     4.11e-05    &     5.67e-05     \\\\\n",
       "\\bottomrule\n",
       "\\end{tabular}\n",
       "\\begin{tabular}{lclc}\n",
       "\\textbf{Ljung-Box (L1) (Q):}     & 1.57 & \\textbf{  Jarque-Bera (JB):  } & 372.70  \\\\\n",
       "\\textbf{Prob(Q):}                & 0.21 & \\textbf{  Prob(JB):          } &  0.00   \\\\\n",
       "\\textbf{Heteroskedasticity (H):} & 9.05 & \\textbf{  Skew:              } &  1.72   \\\\\n",
       "\\textbf{Prob(H) (two-sided):}    & 0.00 & \\textbf{  Kurtosis:          } & 14.61   \\\\\n",
       "\\bottomrule\n",
       "\\end{tabular}\n",
       "%\\caption{SARIMAX Results}\n",
       "\\end{center}\n",
       "\n",
       "Warnings: \\newline\n",
       " [1] Covariance matrix calculated using the outer product of gradients (complex-step)."
      ],
      "text/plain": [
       "<class 'statsmodels.iolib.summary.Summary'>\n",
       "\"\"\"\n",
       "                               SARIMAX Results                                \n",
       "==============================================================================\n",
       "Dep. Variable:            vader_score   No. Observations:                   63\n",
       "Model:               SARIMAX(1, 0, 1)   Log Likelihood                 215.680\n",
       "Date:                Sun, 19 May 2024   AIC                           -425.361\n",
       "Time:                        23:09:23   BIC                           -419.028\n",
       "Sample:                    04-06-2009   HQIC                          -422.879\n",
       "                         - 06-07-2009                                         \n",
       "Covariance Type:                  opg                                         \n",
       "==============================================================================\n",
       "                 coef    std err          z      P>|z|      [0.025      0.975]\n",
       "------------------------------------------------------------------------------\n",
       "ar.L1          1.0012      0.002    617.276      0.000       0.998       1.004\n",
       "ma.L1         -0.7679      0.063    -12.254      0.000      -0.891      -0.645\n",
       "sigma2      4.892e-05   3.98e-06     12.289      0.000    4.11e-05    5.67e-05\n",
       "===================================================================================\n",
       "Ljung-Box (L1) (Q):                   1.57   Jarque-Bera (JB):               372.70\n",
       "Prob(Q):                              0.21   Prob(JB):                         0.00\n",
       "Heteroskedasticity (H):               9.05   Skew:                             1.72\n",
       "Prob(H) (two-sided):                  0.00   Kurtosis:                        14.61\n",
       "===================================================================================\n",
       "\n",
       "Warnings:\n",
       "[1] Covariance matrix calculated using the outer product of gradients (complex-step).\n",
       "\"\"\""
      ]
     },
     "execution_count": 11,
     "metadata": {},
     "output_type": "execute_result"
    }
   ],
   "source": [
    "# Fitting the SARIMA model\n",
    "\n",
    "model_sarima = SARIMAX(filled_data, order=(1, 0, 1), seasonal_order=(0, 0, 0, 0), enforce_stationarity=False, enforce_invertibility=False)\n",
    "results_sarima = model_sarima.fit(disp=False)\n",
    "\n",
    "# Display the model summary\n",
    "\n",
    "results_sarima.summary()"
   ]
  },
  {
   "cell_type": "markdown",
   "id": "62e8a7ad",
   "metadata": {},
   "source": [
    "The SARIMA(1,0,1) model has been fitted, and here are the key aspects of the model summary:\n",
    "\n",
    "The AR coefficient is very close to 1, which suggests a strong autoregressive component.\n",
    "\n",
    "The MA coefficient is significant with a value of approximately -0.77, indicating the influence of previous errors on the current prediction.\n",
    "\n",
    "The model's AIC and BIC values are quite low, which typically indicates a good fit, though they should be used to compare across different model configurations.\n",
    "\n",
    "Diagnostic tests like the Ljung-Box test and the Jarque-Bera test suggest some residuals may not be perfectly noise-like, indicating potential room for model improvement."
   ]
  },
  {
   "cell_type": "markdown",
   "id": "377044b7",
   "metadata": {},
   "source": [
    "# Model Evaluation and Forecasting"
   ]
  },
  {
   "cell_type": "markdown",
   "id": "caae30fc",
   "metadata": {},
   "source": [
    "To evaluate the SARIMA model, I will perform a forecast and check its accuracy against actual observations.\n",
    "\n",
    "I will also look at the residuals to ensure they are normally distributed (which suggests a good fit)."
   ]
  },
  {
   "cell_type": "code",
   "execution_count": 12,
   "id": "df339a6a",
   "metadata": {},
   "outputs": [
    {
     "data": {
      "image/png": "[encoded data removed]",
      "text/plain": [
       "<Figure size 1400x700 with 1 Axes>"
      ]
     },
     "metadata": {},
     "output_type": "display_data"
    }
   ],
   "source": [
    "# Forecast the next 10 days\n",
    "\n",
    "forecast_steps = 10\n",
    "pred = results_sarima.get_forecast(steps=forecast_steps)\n",
    "pred_ci = pred.conf_int()\n",
    "\n",
    "# Plot the past data along with the forecast and confidence intervals\n",
    "\n",
    "ax = filled_data.plot(label='observed', figsize=(14, 7))\n",
    "pred.predicted_mean.plot(ax=ax, label='Forecast')\n",
    "ax.fill_between(pred_ci.index,\n",
    "                pred_ci.iloc[:, 0],\n",
    "                pred_ci.iloc[:, 1], color='pink', alpha=.3)\n",
    "\n",
    "ax.set_xlabel('Date')\n",
    "ax.set_ylabel('Vader Score')\n",
    "plt.legend()\n",
    "plt.show()"
   ]
  },
  {
   "cell_type": "markdown",
   "id": "476670ab",
   "metadata": {},
   "source": [
    "The graph represents a time series of Vader sentiment scores, over a period from early May to mid-June 2009.\n",
    "\n",
    "There is a noticeable spike around mid-May, where sentiment scores briefly surge before returning to previous levels.\n",
    "\n",
    "This sudden peak could signify a specific event or a collection of events that had a temporary impact on public sentiment. Also is possible to see gradual increases and some declines, reflecting natural fluctuations in public mood or response to ongoing situations during this period.\n",
    "\n",
    "Around June 8, a forecast is presented, depicted by the orange line within a pink shaded area, which represents the confidence interval of the forecast.\n",
    "\n",
    "The forecast's stability contrasts with the observed data's volatility, possibly implying an expectation of a calmer, more stable period following the date range of observed data, or it may reflect the model's smoothing of past volatility into a moderated outlook."
   ]
  },
  {
   "cell_type": "markdown",
   "id": "dfbc3ac4",
   "metadata": {},
   "source": [
    "As an alternative, I will manually inspect the forecasted values and their confidence intervals without attempting a complex plot:"
   ]
  },
  {
   "cell_type": "code",
   "execution_count": 13,
   "id": "4f1872f5",
   "metadata": {},
   "outputs": [
    {
     "data": {
      "text/plain": [
       "(2009-06-08    0.177194\n",
       " 2009-06-09    0.177410\n",
       " 2009-06-10    0.177625\n",
       " 2009-06-11    0.177841\n",
       " 2009-06-12    0.178058\n",
       " 2009-06-13    0.178274\n",
       " 2009-06-14    0.178491\n",
       " 2009-06-15    0.178708\n",
       " 2009-06-16    0.178925\n",
       " 2009-06-17    0.179143\n",
       " Freq: D, Name: predicted_mean, dtype: float64,\n",
       "             lower vader_score  upper vader_score\n",
       " 2009-06-08           0.163485           0.190903\n",
       " 2009-06-09           0.163333           0.191487\n",
       " 2009-06-10           0.163189           0.192062\n",
       " 2009-06-11           0.163053           0.192629\n",
       " 2009-06-12           0.162925           0.193190\n",
       " 2009-06-13           0.162804           0.193744\n",
       " 2009-06-14           0.162690           0.194292\n",
       " 2009-06-15           0.162582           0.194834\n",
       " 2009-06-16           0.162479           0.195371\n",
       " 2009-06-17           0.162383           0.195902)"
      ]
     },
     "execution_count": 13,
     "metadata": {},
     "output_type": "execute_result"
    }
   ],
   "source": [
    "# Extract predicted means and confidence intervals\n",
    "\n",
    "forecasted_values = pred.predicted_mean\n",
    "confidence_intervals = pred.conf_int()\n",
    "\n",
    "# Display the forecasted values and their confidence intervals\n",
    "\n",
    "forecasted_values, confidence_intervals"
   ]
  },
  {
   "cell_type": "markdown",
   "id": "945a6456",
   "metadata": {},
   "source": [
    "The forecast suggests a slight increasing trend in the Vader Score over the next 10 days. The model's confidence intervals indicate a reasonable degree of uncertainty, staying fairly tight around the forecasted values.\n",
    "\n",
    "This analysis provides a quantitative outlook based on the SARIMA model, which could be useful for understanding trends in the data. Further refinements could be made by testing different model parameters, adding seasonal components if more data suggests seasonality, or incorporating external variables."
   ]
  },
  {
   "cell_type": "code",
   "execution_count": 14,
   "id": "ad16caaf",
   "metadata": {},
   "outputs": [
    {
     "name": "stdout",
     "output_type": "stream",
     "text": [
      "1 Day Forecast: 0.33608480504244825\n",
      "3 Days Forecast: 0.33103680725717854\n",
      "7 Days Forecast: 0.3366619378964217\n"
     ]
    }
   ],
   "source": [
    "import pandas as pd\n",
    "from statsmodels.tsa.statespace.sarimax import SARIMAX\n",
    "\n",
    "# Load your dataset (Ensure it's loaded properly as per your environment setup)\n",
    "# Assuming 'tweets_dataset_new' is already loaded and contains a datetime index and 'vader_score'\n",
    "# Convert vader_score to numeric and drop NaNs if necessary\n",
    "tweets_dataset_new['vader_score'] = pd.to_numeric(tweets_dataset_new['vader_score'], errors='coerce')\n",
    "tweets_dataset_new.dropna(subset=['vader_score'], inplace=True)\n",
    "\n",
    "# Assuming your data is indexed by date and 'vader_score' is the column we are forecasting\n",
    "# Confirm that your DataFrame's index is a datetime type\n",
    "if not isinstance(tweets_dataset_new.index, pd.DatetimeIndex):\n",
    "    tweets_dataset_new.index = pd.to_datetime(tweets_dataset_new.index)\n",
    "\n",
    "# SARIMA Model Configuration\n",
    "order = (1, 1, 1)\n",
    "seasonal_order = (1, 1, 1, 7)  # Weekly seasonality assumed, adjust '7' as per your dataset's seasonality\n",
    "\n",
    "# Fit the SARIMA model\n",
    "model = SARIMAX(tweets_dataset_new['vader_score'], order=order, seasonal_order=seasonal_order, enforce_stationarity=False, enforce_invertibility=False)\n",
    "results = model.fit(disp=False)\n",
    "\n",
    "# Forecasting\n",
    "forecast_1_day = results.get_forecast(steps=1).predicted_mean\n",
    "forecast_3_days = results.get_forecast(steps=3).predicted_mean\n",
    "forecast_7_days = results.get_forecast(steps=7).predicted_mean\n",
    "\n",
    "# Print the forecasts\n",
    "print(\"1 Day Forecast:\", forecast_1_day.iloc[0])\n",
    "print(\"3 Days Forecast:\", forecast_3_days.iloc[-1])\n",
    "print(\"7 Days Forecast:\", forecast_7_days.iloc[-1])\n"
   ]
  },
  {
   "cell_type": "code",
   "execution_count": 15,
   "id": "06eed8f0",
   "metadata": {},
   "outputs": [
    {
     "name": "stderr",
     "output_type": "stream",
     "text": [
      " This problem is unconstrained.\n"
     ]
    },
    {
     "name": "stdout",
     "output_type": "stream",
     "text": [
      "RUNNING THE L-BFGS-B CODE\n",
      "\n",
      "           * * *\n",
      "\n",
      "Machine precision = 2.220D-16\n",
      " N =            5     M =           10\n",
      "\n",
      "At X0         0 variables are exactly at the bounds\n",
      "\n",
      "At iterate    0    f=  6.65275D-01    |proj g|=  7.34063D-01\n",
      "\n",
      "At iterate    5    f=  5.36193D-01    |proj g|=  9.20156D-02\n",
      "\n",
      "At iterate   10    f=  5.34521D-01    |proj g|=  1.32902D-02\n",
      "\n",
      "At iterate   15    f=  5.34520D-01    |proj g|=  2.02922D-03\n",
      "\n",
      "           * * *\n",
      "\n",
      "Tit   = total number of iterations\n",
      "Tnf   = total number of function evaluations\n",
      "Tnint = total number of segments explored during Cauchy searches\n",
      "Skip  = number of BFGS updates skipped\n",
      "Nact  = number of active bounds at final generalized Cauchy point\n",
      "Projg = norm of the final projected gradient\n",
      "F     = final function value\n",
      "\n",
      "           * * *\n",
      "\n",
      "   N    Tit     Tnf  Tnint  Skip  Nact     Projg        F\n",
      "    5     18     26      1     0     0   1.775D-05   5.345D-01\n",
      "  F =  0.53452003418840921     \n",
      "\n",
      "CONVERGENCE: REL_REDUCTION_OF_F_<=_FACTR*EPSMCH             \n"
     ]
    }
   ],
   "source": [
    "import pandas as pd\n",
    "from statsmodels.tsa.statespace.sarimax import SARIMAX\n",
    "import matplotlib.pyplot as plt\n",
    "\n",
    "# Adjust matplotlib settings to handle complex plots\n",
    "plt.rcParams['agg.path.chunksize'] = 10000  # Adjust chunksize as necessary\n",
    "\n",
    "# Ensure your DataFrame 'tweets_dataset_new' is correctly prepared\n",
    "tweets_dataset_new.index = pd.to_datetime(tweets_dataset_new.index)\n",
    "\n",
    "# Define the SARIMA model parameters\n",
    "order = (1, 0, 1)  # Adjust these based on your dataset characteristics\n",
    "seasonal_order = (1, 1, 1, 7)  # Assuming weekly seasonality\n",
    "\n",
    "# Fit the SARIMA model\n",
    "sarima_model = SARIMAX(tweets_dataset_new['vader_score'], order=order, seasonal_order=seasonal_order, enforce_stationarity=False, enforce_invertibility=False)\n",
    "results = sarima_model.fit()\n",
    "\n",
    "# Forecast for 1 day, 3 days, and 7 days\n",
    "predictions = {}\n",
    "forecast_periods = {'1 Day': 1, '3 Days': 3, '7 Days': 7}\n",
    "\n",
    "# Generate forecasts and store in predictions dictionary\n",
    "for label, steps in forecast_periods.items():\n",
    "    forecast = results.get_forecast(steps=steps)\n",
    "    forecast_df = pd.DataFrame({\n",
    "        \"Forecast\": forecast.predicted_mean,\n",
    "        \"Lower CI\": forecast.conf_int().iloc[:, 0],\n",
    "        \"Upper CI\": forecast.conf_int().iloc[:, 1]\n",
    "    })\n",
    "    predictions[label] = forecast_df"
   ]
  },
  {
   "cell_type": "code",
   "execution_count": 16,
   "id": "f7af7a85",
   "metadata": {},
   "outputs": [
    {
     "data": {
      "image/png": "[encoded data removed]",
      "text/plain": [
       "<Figure size 1000x1500 with 3 Axes>"
      ]
     },
     "metadata": {},
     "output_type": "display_data"
    }
   ],
   "source": [
    "import matplotlib.pyplot as plt\n",
    "import pandas as pd\n",
    "\n",
    "# Assume 'results' is your fitted SARIMA model\n",
    "# Prepare forecast data for 1 day, 3 days, and 7 days\n",
    "forecast_1 = results.get_forecast(steps=1).predicted_mean\n",
    "forecast_3 = results.get_forecast(steps=3).predicted_mean\n",
    "forecast_7 = results.get_forecast(steps=7).predicted_mean\n",
    "\n",
    "dates_1 = pd.date_range(start=tweets_dataset_new.index[-1], periods=2, freq='D')[1:]\n",
    "dates_3 = pd.date_range(start=tweets_dataset_new.index[-1], periods=4, freq='D')[1:]\n",
    "dates_7 = pd.date_range(start=tweets_dataset_new.index[-1], periods=8, freq='D')[1:]\n",
    "\n",
    "# Plotting each forecast on separate subplots\n",
    "fig, axs = plt.subplots(3, 1, figsize=(10, 15), sharex=True)\n",
    "\n",
    "# Historical Data\n",
    "#axs[0].plot(tweets_dataset_new['vader_score'], color='black', label='Historical Data')\n",
    "#axs[1].plot(tweets_dataset_new['vader_score'], color='black', label='Historical Data')\n",
    "#axs[2].plot(tweets_dataset_new['vader_score'], color='black', label='Historical Data')\n",
    "\n",
    "# Forecast for 1 day\n",
    "axs[0].plot(dates_1, forecast_1, color='green', marker='o', label='1 Day Forecast')\n",
    "axs[0].set_title('Forecast for 1 Day')\n",
    "axs[0].set_ylabel('Sentiment Score')\n",
    "axs[0].legend()\n",
    "\n",
    "# Forecast for 3 days\n",
    "axs[1].plot(dates_3, forecast_3, color='red', marker='o', label='3 Days Forecast')\n",
    "axs[1].set_title('Forecast for 3 Days')\n",
    "axs[1].set_ylabel('Sentiment Score')\n",
    "axs[1].legend()\n",
    "\n",
    "# Forecast for 7 days\n",
    "axs[2].plot(dates_7, forecast_7, color='blue', marker='o', label='7 Days Forecast')\n",
    "axs[2].set_title('Forecast for 7 Days')\n",
    "axs[2].set_xlabel('Date')\n",
    "axs[2].set_ylabel('Sentiment Score')\n",
    "axs[2].legend()\n",
    "\n",
    "plt.tight_layout()\n",
    "plt.show()"
   ]
  },
  {
   "cell_type": "markdown",
   "id": "a3f71797",
   "metadata": {},
   "source": [
    "**Interpretation of Each Forecast**\n",
    "\n",
    "**Forecast for 1 Day:** The single data point in the top plot represents the forecast for the next day. It shows a specific sentiment score without a range, which suggests a model's point estimate of sentiment for a single day ahead. This forecast is fairly stable, suggesting little volatility expected over the next day.\n",
    "\n",
    "**Forecast for 3 Days:** The middle plot illustrates the forecast over three days, depicted as a rise and subsequent fall. This could indicate an event or series of events expected to positively influence sentiment scores initially, followed by a rapid normalization to previous levels. The model captures this short-lived fluctuation, perhaps anticipating an event with a known limited duration impact.\n",
    "\n",
    "**Forecast for 7 Days:** The bottom plot displays a more dynamic and varied forecast over seven days, showing significant variability. The sentiment score peaks notably around the middle of the forecast period before dropping and then rising again. This could suggest multiple influencing factors or events affecting public sentiment over the week, with the model capturing several potential shifts in mood or public opinion."
   ]
  },
  {
   "cell_type": "markdown",
   "id": "71a6e267",
   "metadata": {},
   "source": [
    "# Dynamic and interactive dashboard"
   ]
  },
  {
   "cell_type": "code",
   "execution_count": 17,
   "id": "93d9e553",
   "metadata": {},
   "outputs": [
    {
     "data": {
      "text/html": [
       "\n",
       "        <iframe\n",
       "            width=\"100%\"\n",
       "            height=\"650\"\n",
       "            src=\"http://127.0.0.1:8050/\"\n",
       "            frameborder=\"0\"\n",
       "            allowfullscreen\n",
       "            \n",
       "        ></iframe>\n",
       "        "
      ],
      "text/plain": [
       "<IPython.lib.display.IFrame at 0x3459bef90>"
      ]
     },
     "metadata": {},
     "output_type": "display_data"
    }
   ],
   "source": [
    "import dash\n",
    "import dash_core_components as dcc\n",
    "import dash_html_components as html\n",
    "from dash.dependencies import Input, Output\n",
    "import plotly.graph_objs as go\n",
    "\n",
    "app = dash.Dash(__name__)\n",
    "\n",
    "app.layout = html.Div([\n",
    "    dcc.Dropdown(\n",
    "        id='time_horizon',\n",
    "        options=[\n",
    "            {'label': '1 Day', 'value': '1'},\n",
    "            {'label': '3 Days', 'value': '3'},\n",
    "            {'label': '7 Days', 'value': '7'}\n",
    "        ],\n",
    "        value='1'\n",
    "    ),\n",
    "    dcc.Graph(id='forecast_graph')\n",
    "])\n",
    "\n",
    "@app.callback(\n",
    "    Output('forecast_graph', 'figure'),\n",
    "    [Input('time_horizon', 'value')]\n",
    ")\n",
    "def update_graph(selected_horizon):\n",
    "    if selected_horizon == '1':\n",
    "        data = forecast_1\n",
    "        dates = dates_1\n",
    "    elif selected_horizon == '3':\n",
    "        data = forecast_3\n",
    "        dates = dates_3\n",
    "    else:\n",
    "        data = forecast_7\n",
    "        dates = dates_7\n",
    "    return {\n",
    "        'data': [go.Scatter(x=dates, y=data, mode='markers+lines')],\n",
    "        'layout': go.Layout(title=f'Forecast for {selected_horizon} Days')\n",
    "    }\n",
    "\n",
    "if __name__ == '__main__':\n",
    "    app.run_server(debug=True)\n"
   ]
  },
  {
   "cell_type": "markdown",
   "id": "2f0a085f",
   "metadata": {},
   "source": [
    "# Part 3 is done. This will continue in Part 4"
   ]
  },
  {
   "cell_type": "code",
   "execution_count": null,
   "id": "dd74105f",
   "metadata": {},
   "outputs": [],
   "source": []
  }
 ],
 "metadata": {
  "kernelspec": {
   "display_name": "Python 3 (ipykernel)",
   "language": "python",
   "name": "python3"
  },
  "language_info": {
   "codemirror_mode": {
    "name": "ipython",
    "version": 3
   },
   "file_extension": ".py",
   "mimetype": "text/x-python",
   "name": "python",
   "nbconvert_exporter": "python",
   "pygments_lexer": "ipython3",
   "version": "3.11.4"
  }
 },
 "nbformat": 4,
 "nbformat_minor": 5
}
