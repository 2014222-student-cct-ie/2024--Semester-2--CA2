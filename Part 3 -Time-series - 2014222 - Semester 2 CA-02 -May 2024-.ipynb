{
 "cells": [
  {
   "cell_type": "markdown",
   "id": "1dbd1902",
   "metadata": {},
   "source": [
    "# 2014222 - Semester 2 CA-02 -May 2024"
   ]
  },
  {
   "cell_type": "markdown",
   "id": "a3b41c96",
   "metadata": {},
   "source": [
    "# Github account"
   ]
  },
  {
   "cell_type": "markdown",
   "id": "21138b19",
   "metadata": {},
   "source": [
    "https://github.com/2014222-student-cct-ie/2024--Semester-2--CA2/"
   ]
  },
  {
   "cell_type": "markdown",
   "id": "178127e3",
   "metadata": {},
   "source": [
    "# Part 3 Time-series"
   ]
  },
  {
   "cell_type": "code",
   "execution_count": 1,
   "id": "9d202014",
   "metadata": {},
   "outputs": [
    {
     "name": "stderr",
     "output_type": "stream",
     "text": [
      "/Users/geomarmunoz/anaconda3/lib/python3.11/site-packages/pandas/core/arrays/masked.py:60: UserWarning: Pandas requires version '1.3.6' or newer of 'bottleneck' (version '1.3.5' currently installed).\n",
      "  from pandas.core import (\n"
     ]
    }
   ],
   "source": [
    "# Utilise Python programming language in order to comply with the requisites of the assessment and perform adequate Machine\n",
    "# Learning algorithms to discover and deliver insights.\n",
    "\n",
    "# Import the necessary libraries (Numpy and Pandas) in order to perform data cleansing.\n",
    "# These are the libraries that are conventionally used as a common practice in order to\n",
    "# perform mathematical and statistical operations during a data analysis process\n",
    "\n",
    "import numpy as np\n",
    "import pandas as pd\n",
    "\n",
    "# Import Matplotlib and Plotly library in order to perform data visualisation procedures\n",
    "\n",
    "import plotly.express as px\n",
    "import plotly.graph_objects as go\n",
    "import matplotlib.pyplot as plt\n",
    "\n",
    "# Import Seaborn libraries in order to perform data visualisation procedures\n",
    "\n",
    "import seaborn as sns\n",
    "\n",
    "# I am using this line of code to see all columns in a wide DataFrame\n",
    "\n",
    "pd.set_option('display.max_columns', None)\n",
    "\n",
    "from pyspark.sql import SparkSession\n",
    "from pyspark.ml.feature import VectorAssembler, StandardScaler\n",
    "from pyspark.ml.linalg import Vectors\n",
    "from pyspark.sql.functions import col\n",
    "from pyspark.ml import Pipeline\n",
    "from pyspark.sql.types import FloatType\n",
    "\n",
    "\n",
    "# For normalization\n",
    "from pyspark.ml.feature import MinMaxScaler \n",
    "from pyspark.ml.evaluation import RegressionEvaluator\n",
    "from pyspark.ml.regression import LinearRegression\n",
    "from pyspark.ml.tuning import ParamGridBuilder, TrainValidationSplit\n",
    "\n",
    "\n",
    "# process the tweets data\n",
    "# !pip install textblob\n",
    "from pyspark.sql.functions import udf\n",
    "from textblob import TextBlob\n",
    "\n",
    "# pip install nltk\n",
    "import nltk\n",
    "from nltk.sentiment import SentimentIntensityAnalyzer\n",
    "\n",
    "from pyspark.sql import DataFrame\n",
    "\n",
    "# re module provides regular expression support.\n",
    "# In Python a regular expression search is typically written as:\n",
    "# match = re. search(pat, str)\n",
    "# The re.search() method takes a regular expression pattern and a string and searches\n",
    "# for that pattern within the string.\n",
    "\n",
    "import re\n",
    "\n",
    "from pyspark.sql.types import StructType, StructField, IntegerType, StringType\n",
    "\n",
    "# !pip install pyspark\n",
    "\n",
    "# !pip install pyspark pandas\n",
    "\n",
    "# Import the warnings module\n",
    "\n",
    "# !pip install dash plotly\n",
    "\n",
    "# !pip install jupyter-dash\n",
    "\n",
    "\n",
    "from statsmodels.tsa.arima.model import ARIMA\n",
    "from statsmodels.tsa.arima_model import ARIMA\n",
    "\n",
    "from statsmodels.tsa.holtwinters import ExponentialSmoothing\n",
    "\n",
    "from statsmodels.tsa.statespace.sarimax import SARIMAX\n",
    "\n",
    "from statsmodels.tsa.statespace.varmax import VARMAX\n",
    "\n",
    "from sklearn.metrics import mean_absolute_error, mean_squared_error\n",
    "\n",
    "import warnings\n",
    "\n",
    "# Ignore all warnings by applying th the 'filterwarnings()'' function and passing the 'ignore' argument\n",
    "\n",
    "warnings.filterwarnings('ignore')"
   ]
  },
  {
   "cell_type": "code",
   "execution_count": 2,
   "id": "5e99ffd4",
   "metadata": {},
   "outputs": [],
   "source": [
    "tweets_dataset_new = pd.read_csv('sentiment_score_and_labeled_tweets.csv')"
   ]
  },
  {
   "cell_type": "code",
   "execution_count": 3,
   "id": "15467842",
   "metadata": {},
   "outputs": [
    {
     "data": {
      "text/html": [
       "<div>\n",
       "<style scoped>\n",
       "    .dataframe tbody tr th:only-of-type {\n",
       "        vertical-align: middle;\n",
       "    }\n",
       "\n",
       "    .dataframe tbody tr th {\n",
       "        vertical-align: top;\n",
       "    }\n",
       "\n",
       "    .dataframe thead th {\n",
       "        text-align: right;\n",
       "    }\n",
       "</style>\n",
       "<table border=\"1\" class=\"dataframe\">\n",
       "  <thead>\n",
       "    <tr style=\"text-align: right;\">\n",
       "      <th></th>\n",
       "      <th>tweet_ID</th>\n",
       "      <th>date_timestamp</th>\n",
       "      <th>twitter_user</th>\n",
       "      <th>cleaned_tweet_text</th>\n",
       "      <th>vader_score</th>\n",
       "      <th>textblob_score</th>\n",
       "      <th>vader_sentiment</th>\n",
       "      <th>textblob_sentiment</th>\n",
       "    </tr>\n",
       "  </thead>\n",
       "  <tbody>\n",
       "    <tr>\n",
       "      <th>0</th>\n",
       "      <td>1467810369</td>\n",
       "      <td>04-06-2009 22:19:45</td>\n",
       "      <td>_TheSpecialOne_</td>\n",
       "      <td>- Awww, that's a bummer.  You shoulda got Davi...</td>\n",
       "      <td>-0.0173</td>\n",
       "      <td>0.216667</td>\n",
       "      <td>Negative</td>\n",
       "      <td>Positive</td>\n",
       "    </tr>\n",
       "    <tr>\n",
       "      <th>1</th>\n",
       "      <td>1467810672</td>\n",
       "      <td>04-06-2009 22:19:49</td>\n",
       "      <td>scotthamilton</td>\n",
       "      <td>is upset that he can't update his Facebook by ...</td>\n",
       "      <td>-0.7500</td>\n",
       "      <td>0.000000</td>\n",
       "      <td>Negative</td>\n",
       "      <td>Neutral</td>\n",
       "    </tr>\n",
       "    <tr>\n",
       "      <th>2</th>\n",
       "      <td>1467810917</td>\n",
       "      <td>04-06-2009 22:19:53</td>\n",
       "      <td>mattycus</td>\n",
       "      <td>I dived many times for the ball. Managed to sa...</td>\n",
       "      <td>0.4939</td>\n",
       "      <td>0.500000</td>\n",
       "      <td>Positive</td>\n",
       "      <td>Positive</td>\n",
       "    </tr>\n",
       "    <tr>\n",
       "      <th>3</th>\n",
       "      <td>1467811184</td>\n",
       "      <td>04-06-2009 22:19:57</td>\n",
       "      <td>ElleCTF</td>\n",
       "      <td>my whole body feels itchy and like its on fire</td>\n",
       "      <td>-0.2500</td>\n",
       "      <td>0.200000</td>\n",
       "      <td>Negative</td>\n",
       "      <td>Positive</td>\n",
       "    </tr>\n",
       "    <tr>\n",
       "      <th>4</th>\n",
       "      <td>1467811193</td>\n",
       "      <td>04-06-2009 22:19:57</td>\n",
       "      <td>Karoli</td>\n",
       "      <td>no, it's not behaving at all. i'm mad. why am ...</td>\n",
       "      <td>-0.6597</td>\n",
       "      <td>-0.625000</td>\n",
       "      <td>Negative</td>\n",
       "      <td>Negative</td>\n",
       "    </tr>\n",
       "    <tr>\n",
       "      <th>...</th>\n",
       "      <td>...</td>\n",
       "      <td>...</td>\n",
       "      <td>...</td>\n",
       "      <td>...</td>\n",
       "      <td>...</td>\n",
       "      <td>...</td>\n",
       "      <td>...</td>\n",
       "      <td>...</td>\n",
       "    </tr>\n",
       "    <tr>\n",
       "      <th>638474</th>\n",
       "      <td>2072531933</td>\n",
       "      <td>06-07-2009 21:12:35</td>\n",
       "      <td>Neo_drone</td>\n",
       "      <td>Apparetly they just started filming so imma go...</td>\n",
       "      <td>0.0000</td>\n",
       "      <td>0.000000</td>\n",
       "      <td>Neutral</td>\n",
       "      <td>Neutral</td>\n",
       "    </tr>\n",
       "    <tr>\n",
       "      <th>638475</th>\n",
       "      <td>2072531954</td>\n",
       "      <td>06-07-2009 21:12:35</td>\n",
       "      <td>edenhig</td>\n",
       "      <td>I would just like to say thank you from all of...</td>\n",
       "      <td>0.6124</td>\n",
       "      <td>0.000000</td>\n",
       "      <td>Positive</td>\n",
       "      <td>Neutral</td>\n",
       "    </tr>\n",
       "    <tr>\n",
       "      <th>638476</th>\n",
       "      <td>2072532046</td>\n",
       "      <td>06-07-2009 21:12:36</td>\n",
       "      <td>Gotjuicygirl</td>\n",
       "      <td>thanx love ! I definitely agree</td>\n",
       "      <td>0.8655</td>\n",
       "      <td>0.312500</td>\n",
       "      <td>Positive</td>\n",
       "      <td>Positive</td>\n",
       "    </tr>\n",
       "    <tr>\n",
       "      <th>638477</th>\n",
       "      <td>2072532066</td>\n",
       "      <td>06-07-2009 21:12:36</td>\n",
       "      <td>whitet</td>\n",
       "      <td>the ones from yesterday w/ the animals, VERY CUTE</td>\n",
       "      <td>0.6965</td>\n",
       "      <td>0.650000</td>\n",
       "      <td>Positive</td>\n",
       "      <td>Positive</td>\n",
       "    </tr>\n",
       "    <tr>\n",
       "      <th>638478</th>\n",
       "      <td>2072532109</td>\n",
       "      <td>06-07-2009 21:12:37</td>\n",
       "      <td>angeltarpov</td>\n",
       "      <td>hey Andrea, how are you? This is my new twitte...</td>\n",
       "      <td>0.9055</td>\n",
       "      <td>0.318182</td>\n",
       "      <td>Positive</td>\n",
       "      <td>Positive</td>\n",
       "    </tr>\n",
       "  </tbody>\n",
       "</table>\n",
       "<p>638479 rows × 8 columns</p>\n",
       "</div>"
      ],
      "text/plain": [
       "          tweet_ID       date_timestamp     twitter_user  \\\n",
       "0       1467810369  04-06-2009 22:19:45  _TheSpecialOne_   \n",
       "1       1467810672  04-06-2009 22:19:49    scotthamilton   \n",
       "2       1467810917  04-06-2009 22:19:53         mattycus   \n",
       "3       1467811184  04-06-2009 22:19:57          ElleCTF   \n",
       "4       1467811193  04-06-2009 22:19:57           Karoli   \n",
       "...            ...                  ...              ...   \n",
       "638474  2072531933  06-07-2009 21:12:35        Neo_drone   \n",
       "638475  2072531954  06-07-2009 21:12:35          edenhig   \n",
       "638476  2072532046  06-07-2009 21:12:36     Gotjuicygirl   \n",
       "638477  2072532066  06-07-2009 21:12:36           whitet   \n",
       "638478  2072532109  06-07-2009 21:12:37      angeltarpov   \n",
       "\n",
       "                                       cleaned_tweet_text  vader_score  \\\n",
       "0       - Awww, that's a bummer.  You shoulda got Davi...      -0.0173   \n",
       "1       is upset that he can't update his Facebook by ...      -0.7500   \n",
       "2       I dived many times for the ball. Managed to sa...       0.4939   \n",
       "3          my whole body feels itchy and like its on fire      -0.2500   \n",
       "4       no, it's not behaving at all. i'm mad. why am ...      -0.6597   \n",
       "...                                                   ...          ...   \n",
       "638474  Apparetly they just started filming so imma go...       0.0000   \n",
       "638475  I would just like to say thank you from all of...       0.6124   \n",
       "638476                    thanx love ! I definitely agree       0.8655   \n",
       "638477  the ones from yesterday w/ the animals, VERY CUTE       0.6965   \n",
       "638478  hey Andrea, how are you? This is my new twitte...       0.9055   \n",
       "\n",
       "        textblob_score vader_sentiment textblob_sentiment  \n",
       "0             0.216667        Negative           Positive  \n",
       "1             0.000000        Negative            Neutral  \n",
       "2             0.500000        Positive           Positive  \n",
       "3             0.200000        Negative           Positive  \n",
       "4            -0.625000        Negative           Negative  \n",
       "...                ...             ...                ...  \n",
       "638474        0.000000         Neutral            Neutral  \n",
       "638475        0.000000        Positive            Neutral  \n",
       "638476        0.312500        Positive           Positive  \n",
       "638477        0.650000        Positive           Positive  \n",
       "638478        0.318182        Positive           Positive  \n",
       "\n",
       "[638479 rows x 8 columns]"
      ]
     },
     "execution_count": 3,
     "metadata": {},
     "output_type": "execute_result"
    }
   ],
   "source": [
    "tweets_dataset_new"
   ]
  },
  {
   "cell_type": "code",
   "execution_count": 4,
   "id": "6396e383",
   "metadata": {},
   "outputs": [
    {
     "data": {
      "image/png": "[encoded data removed]",
      "text/plain": [
       "<Figure size 640x480 with 1 Axes>"
      ]
     },
     "metadata": {},
     "output_type": "display_data"
    }
   ],
   "source": [
    "# Graph Vader vs textblob_score\n",
    "\n",
    "plt.title(\"Textblob vs Vader\")\n",
    "\n",
    "plt.style.use('seaborn-whitegrid')\n",
    "\n",
    "sns.kdeplot(data=tweets_dataset_new['vader_score'], label=\"Vader\", shade=True)\n",
    "\n",
    "sns.kdeplot(data=tweets_dataset_new['textblob_score'], label=\"Text Blob\", shade=True)\n",
    "\n",
    "# in sentiment analysis, \"polarity\" refers to the orientation of emotional sentiment expressed in text,\n",
    "# often categorised as positive, negative, or neutral.\n",
    "\n",
    "plt.xlabel(\"Polarity\")\n",
    "\n",
    "# in the context of the plot, \"density\" refers to the density of data points at various polarity levels\n",
    "# within the distribution.\n",
    "\n",
    "plt.ylabel('Density')\n",
    "\n",
    "plt.legend()\n",
    "\n",
    "plt.show()"
   ]
  },
  {
   "cell_type": "markdown",
   "id": "8fef5696",
   "metadata": {},
   "source": [
    "Interpretation of Neutral Scores:\n",
    "\n",
    "The sharp peak in **TextBlob** at 0.0 indicates it may have a bias towards categorizing tweets as neutral.\n",
    "\n",
    "**Vader’s** broader peak suggests it might provide a more nuanced analysis around the neutral sentiment.\n",
    "\n",
    "In summary, **Vader** seems to offer a more nuanced sentiment analysis, recognizing a broader range of sentiments, while TextBlob tends to classify a significant portion of the tweets as exactly neutral, potentially overlooking subtle differences in sentiment."
   ]
  },
  {
   "cell_type": "markdown",
   "id": "8db9400a",
   "metadata": {},
   "source": [
    "# Preparing the data for both the LSTM and SARIMA models"
   ]
  },
  {
   "cell_type": "markdown",
   "id": "9a22e95a",
   "metadata": {},
   "source": [
    "Convert the date_timestamp to a datetime type.\n",
    "\n",
    "Set it as the index of the DataFrame.\n",
    "\n",
    "Check for missing values and irregular intervals if present."
   ]
  },
  {
   "cell_type": "code",
   "execution_count": 5,
   "id": "b0f4d6d0",
   "metadata": {},
   "outputs": [
    {
     "data": {
      "text/plain": [
       "(date_timestamp\n",
       " 2009-04-06    0.142160\n",
       " 2009-04-07    0.162342\n",
       " 2009-04-08         NaN\n",
       " 2009-04-09         NaN\n",
       " 2009-04-10         NaN\n",
       " Freq: D, Name: vader_score, dtype: float64,\n",
       " 47)"
      ]
     },
     "execution_count": 5,
     "metadata": {},
     "output_type": "execute_result"
    }
   ],
   "source": [
    "# Convert the 'date_timestamp' to datetime and set as index\n",
    "tweets_dataset_new['date_timestamp'] = pd.to_datetime(tweets_dataset_new['date_timestamp'])\n",
    "tweets_dataset_new.set_index('date_timestamp', inplace=True)\n",
    "\n",
    "# Resample the data to a consistent interval if necessary and check for missing values\n",
    "data_frequency = tweets_dataset_new['vader_score'].resample('D').mean()  # Daily frequency chosen for illustration\n",
    "\n",
    "# Check for missing values in the resampled data\n",
    "missing_data = data_frequency.isna().sum()\n",
    "\n",
    "data_frequency.head(), missing_data\n"
   ]
  },
  {
   "cell_type": "markdown",
   "id": "5d433fa3",
   "metadata": {},
   "source": [
    "**Filling Missing Values**"
   ]
  },
  {
   "cell_type": "markdown",
   "id": "7f203da0",
   "metadata": {},
   "source": [
    "Fill the missing values using linear interpolation, which is a reasonable approach for time series that do not exhibit strong seasonal patterns over short periods missing.\n",
    "\n",
    "This step is essential for SARIMA, and while LSTM can handle some gaps with sequence-based learning, filling gaps helps maintain temporal consistency."
   ]
  },
  {
   "cell_type": "code",
   "execution_count": 6,
   "id": "08e1a415",
   "metadata": {},
   "outputs": [
    {
     "data": {
      "text/plain": [
       "(date_timestamp\n",
       " 2009-04-06    0.142160\n",
       " 2009-04-07    0.162342\n",
       " 2009-04-08    0.162945\n",
       " 2009-04-09    0.163548\n",
       " 2009-04-10    0.164150\n",
       " Freq: D, Name: vader_score, dtype: float64,\n",
       " 0)"
      ]
     },
     "execution_count": 6,
     "metadata": {},
     "output_type": "execute_result"
    }
   ],
   "source": [
    "# Fill missing values using linear interpolation\n",
    "filled_data = data_frequency.interpolate(method='linear')\n",
    "\n",
    "# Check again for any remaining missing values\n",
    "remaining_missing = filled_data.isna().sum()\n",
    "\n",
    "# Display the filled data to confirm changes\n",
    "filled_data.head(), remaining_missing\n"
   ]
  },
  {
   "cell_type": "markdown",
   "id": "6936cef6",
   "metadata": {},
   "source": [
    "## LSTM (Long Short-Term Memory) Model Implementation"
   ]
  },
  {
   "cell_type": "code",
   "execution_count": 7,
   "id": "1d414c89",
   "metadata": {},
   "outputs": [
    {
     "data": {
      "text/plain": [
       "((49, 1, 1), (12, 1, 1))"
      ]
     },
     "execution_count": 7,
     "metadata": {},
     "output_type": "execute_result"
    }
   ],
   "source": [
    "from sklearn.preprocessing import MinMaxScaler\n",
    "from sklearn.model_selection import train_test_split\n",
    "import numpy as np\n",
    "\n",
    "# Normalize the data\n",
    "scaler = MinMaxScaler(feature_range=(0, 1))\n",
    "scaled_data = scaler.fit_transform(filled_data.values.reshape(-1, 1))\n",
    "\n",
    "# Splitting the data into train and test sets\n",
    "train_size = int(len(scaled_data) * 0.80)\n",
    "test_size = len(scaled_data) - train_size\n",
    "train, test = scaled_data[0:train_size, :], scaled_data[train_size:len(scaled_data), :]\n",
    "\n",
    "# Function to create dataset for LSTM\n",
    "def create_dataset(dataset, look_back=1):\n",
    "    dataX, dataY = [], []\n",
    "    for i in range(len(dataset)-look_back):\n",
    "        a = dataset[i:(i+look_back), 0]\n",
    "        dataX.append(a)\n",
    "        dataY.append(dataset[i + look_back, 0])\n",
    "    return np.array(dataX), np.array(dataY)\n",
    "\n",
    "# Specifying the look_back period\n",
    "look_back = 1\n",
    "trainX, trainY = create_dataset(train, look_back)\n",
    "testX, testY = create_dataset(test, look_back)\n",
    "\n",
    "# Reshape input to be [samples, time steps, features]\n",
    "trainX = np.reshape(trainX, (trainX.shape[0], 1, trainX.shape[1]))\n",
    "testX = np.reshape(testX, (testX.shape[0], 1, testX.shape[1]))\n",
    "\n",
    "trainX.shape, testX.shape\n"
   ]
  },
  {
   "cell_type": "markdown",
   "id": "7199afb3",
   "metadata": {},
   "source": [
    "## LSTM (Long Short-Term Memory) Model Implementation"
   ]
  },
  {
   "cell_type": "markdown",
   "id": "0f191524",
   "metadata": {},
   "source": [
    "Define the LSTM network architecture. Given the short time series, we'll use a simple model with a minimal number of LSTM units to avoid overfitting:"
   ]
  },
  {
   "cell_type": "markdown",
   "id": "8641ca65",
   "metadata": {},
   "source": [
    "LSTM Layer: A few units (e.g., 4) to capture dependencies in the data.\n",
    "\n",
    "Dropout Layer: To prevent overfitting by randomly omitting subset of features during training.\n",
    "\n",
    "Dense Layer: To produce the output from the LSTM's output."
   ]
  },
  {
   "cell_type": "code",
   "execution_count": 8,
   "id": "23ef1ccd",
   "metadata": {},
   "outputs": [
    {
     "data": {
      "text/html": [
       "<pre style=\"white-space:pre;overflow-x:auto;line-height:normal;font-family:Menlo,'DejaVu Sans Mono',consolas,'Courier New',monospace\"><span style=\"font-weight: bold\">Model: \"sequential\"</span>\n",
       "</pre>\n"
      ],
      "text/plain": [
       "\u001b[1mModel: \"sequential\"\u001b[0m\n"
      ]
     },
     "metadata": {},
     "output_type": "display_data"
    },
    {
     "data": {
      "text/html": [
       "<pre style=\"white-space:pre;overflow-x:auto;line-height:normal;font-family:Menlo,'DejaVu Sans Mono',consolas,'Courier New',monospace\">┏━━━━━━━━━━━━━━━━━━━━━━━━━━━━━━━━━┳━━━━━━━━━━━━━━━━━━━━━━━━┳━━━━━━━━━━━━━━━┓\n",
       "┃<span style=\"font-weight: bold\"> Layer (type)                    </span>┃<span style=\"font-weight: bold\"> Output Shape           </span>┃<span style=\"font-weight: bold\">       Param # </span>┃\n",
       "┡━━━━━━━━━━━━━━━━━━━━━━━━━━━━━━━━━╇━━━━━━━━━━━━━━━━━━━━━━━━╇━━━━━━━━━━━━━━━┩\n",
       "│ lstm (<span style=\"color: #0087ff; text-decoration-color: #0087ff\">LSTM</span>)                     │ (<span style=\"color: #00d7ff; text-decoration-color: #00d7ff\">None</span>, <span style=\"color: #00af00; text-decoration-color: #00af00\">4</span>)              │            <span style=\"color: #00af00; text-decoration-color: #00af00\">96</span> │\n",
       "├─────────────────────────────────┼────────────────────────┼───────────────┤\n",
       "│ dropout (<span style=\"color: #0087ff; text-decoration-color: #0087ff\">Dropout</span>)               │ (<span style=\"color: #00d7ff; text-decoration-color: #00d7ff\">None</span>, <span style=\"color: #00af00; text-decoration-color: #00af00\">4</span>)              │             <span style=\"color: #00af00; text-decoration-color: #00af00\">0</span> │\n",
       "├─────────────────────────────────┼────────────────────────┼───────────────┤\n",
       "│ dense (<span style=\"color: #0087ff; text-decoration-color: #0087ff\">Dense</span>)                   │ (<span style=\"color: #00d7ff; text-decoration-color: #00d7ff\">None</span>, <span style=\"color: #00af00; text-decoration-color: #00af00\">1</span>)              │             <span style=\"color: #00af00; text-decoration-color: #00af00\">5</span> │\n",
       "└─────────────────────────────────┴────────────────────────┴───────────────┘\n",
       "</pre>\n"
      ],
      "text/plain": [
       "┏━━━━━━━━━━━━━━━━━━━━━━━━━━━━━━━━━┳━━━━━━━━━━━━━━━━━━━━━━━━┳━━━━━━━━━━━━━━━┓\n",
       "┃\u001b[1m \u001b[0m\u001b[1mLayer (type)                   \u001b[0m\u001b[1m \u001b[0m┃\u001b[1m \u001b[0m\u001b[1mOutput Shape          \u001b[0m\u001b[1m \u001b[0m┃\u001b[1m \u001b[0m\u001b[1m      Param #\u001b[0m\u001b[1m \u001b[0m┃\n",
       "┡━━━━━━━━━━━━━━━━━━━━━━━━━━━━━━━━━╇━━━━━━━━━━━━━━━━━━━━━━━━╇━━━━━━━━━━━━━━━┩\n",
       "│ lstm (\u001b[38;5;33mLSTM\u001b[0m)                     │ (\u001b[38;5;45mNone\u001b[0m, \u001b[38;5;34m4\u001b[0m)              │            \u001b[38;5;34m96\u001b[0m │\n",
       "├─────────────────────────────────┼────────────────────────┼───────────────┤\n",
       "│ dropout (\u001b[38;5;33mDropout\u001b[0m)               │ (\u001b[38;5;45mNone\u001b[0m, \u001b[38;5;34m4\u001b[0m)              │             \u001b[38;5;34m0\u001b[0m │\n",
       "├─────────────────────────────────┼────────────────────────┼───────────────┤\n",
       "│ dense (\u001b[38;5;33mDense\u001b[0m)                   │ (\u001b[38;5;45mNone\u001b[0m, \u001b[38;5;34m1\u001b[0m)              │             \u001b[38;5;34m5\u001b[0m │\n",
       "└─────────────────────────────────┴────────────────────────┴───────────────┘\n"
      ]
     },
     "metadata": {},
     "output_type": "display_data"
    },
    {
     "data": {
      "text/html": [
       "<pre style=\"white-space:pre;overflow-x:auto;line-height:normal;font-family:Menlo,'DejaVu Sans Mono',consolas,'Courier New',monospace\"><span style=\"font-weight: bold\"> Total params: </span><span style=\"color: #00af00; text-decoration-color: #00af00\">101</span> (404.00 B)\n",
       "</pre>\n"
      ],
      "text/plain": [
       "\u001b[1m Total params: \u001b[0m\u001b[38;5;34m101\u001b[0m (404.00 B)\n"
      ]
     },
     "metadata": {},
     "output_type": "display_data"
    },
    {
     "data": {
      "text/html": [
       "<pre style=\"white-space:pre;overflow-x:auto;line-height:normal;font-family:Menlo,'DejaVu Sans Mono',consolas,'Courier New',monospace\"><span style=\"font-weight: bold\"> Trainable params: </span><span style=\"color: #00af00; text-decoration-color: #00af00\">101</span> (404.00 B)\n",
       "</pre>\n"
      ],
      "text/plain": [
       "\u001b[1m Trainable params: \u001b[0m\u001b[38;5;34m101\u001b[0m (404.00 B)\n"
      ]
     },
     "metadata": {},
     "output_type": "display_data"
    },
    {
     "data": {
      "text/html": [
       "<pre style=\"white-space:pre;overflow-x:auto;line-height:normal;font-family:Menlo,'DejaVu Sans Mono',consolas,'Courier New',monospace\"><span style=\"font-weight: bold\"> Non-trainable params: </span><span style=\"color: #00af00; text-decoration-color: #00af00\">0</span> (0.00 B)\n",
       "</pre>\n"
      ],
      "text/plain": [
       "\u001b[1m Non-trainable params: \u001b[0m\u001b[38;5;34m0\u001b[0m (0.00 B)\n"
      ]
     },
     "metadata": {},
     "output_type": "display_data"
    }
   ],
   "source": [
    "from keras.models import Sequential\n",
    "from keras.layers import LSTM, Dense, Dropout\n",
    "\n",
    "# Define the LSTM model\n",
    "model = Sequential()\n",
    "model.add(LSTM(4, input_shape=(1, look_back)))\n",
    "model.add(Dropout(0.2))\n",
    "model.add(Dense(1))\n",
    "\n",
    "# Compile the model\n",
    "model.compile(loss='mean_squared_error', optimizer='adam')\n",
    "\n",
    "# Summary of the model\n",
    "model.summary()"
   ]
  },
  {
   "cell_type": "code",
   "execution_count": 9,
   "id": "a5c91c95",
   "metadata": {},
   "outputs": [
    {
     "data": {
      "text/html": [
       "<pre style=\"white-space:pre;overflow-x:auto;line-height:normal;font-family:Menlo,'DejaVu Sans Mono',consolas,'Courier New',monospace\"><span style=\"font-weight: bold\">Model: \"sequential_1\"</span>\n",
       "</pre>\n"
      ],
      "text/plain": [
       "\u001b[1mModel: \"sequential_1\"\u001b[0m\n"
      ]
     },
     "metadata": {},
     "output_type": "display_data"
    },
    {
     "data": {
      "text/html": [
       "<pre style=\"white-space:pre;overflow-x:auto;line-height:normal;font-family:Menlo,'DejaVu Sans Mono',consolas,'Courier New',monospace\">┏━━━━━━━━━━━━━━━━━━━━━━━━━━━━━━━━━┳━━━━━━━━━━━━━━━━━━━━━━━━┳━━━━━━━━━━━━━━━┓\n",
       "┃<span style=\"font-weight: bold\"> Layer (type)                    </span>┃<span style=\"font-weight: bold\"> Output Shape           </span>┃<span style=\"font-weight: bold\">       Param # </span>┃\n",
       "┡━━━━━━━━━━━━━━━━━━━━━━━━━━━━━━━━━╇━━━━━━━━━━━━━━━━━━━━━━━━╇━━━━━━━━━━━━━━━┩\n",
       "│ lstm_1 (<span style=\"color: #0087ff; text-decoration-color: #0087ff\">LSTM</span>)                   │ (<span style=\"color: #00d7ff; text-decoration-color: #00d7ff\">None</span>, <span style=\"color: #00af00; text-decoration-color: #00af00\">4</span>)              │            <span style=\"color: #00af00; text-decoration-color: #00af00\">96</span> │\n",
       "├─────────────────────────────────┼────────────────────────┼───────────────┤\n",
       "│ dropout_1 (<span style=\"color: #0087ff; text-decoration-color: #0087ff\">Dropout</span>)             │ (<span style=\"color: #00d7ff; text-decoration-color: #00d7ff\">None</span>, <span style=\"color: #00af00; text-decoration-color: #00af00\">4</span>)              │             <span style=\"color: #00af00; text-decoration-color: #00af00\">0</span> │\n",
       "├─────────────────────────────────┼────────────────────────┼───────────────┤\n",
       "│ dense_1 (<span style=\"color: #0087ff; text-decoration-color: #0087ff\">Dense</span>)                 │ (<span style=\"color: #00d7ff; text-decoration-color: #00d7ff\">None</span>, <span style=\"color: #00af00; text-decoration-color: #00af00\">1</span>)              │             <span style=\"color: #00af00; text-decoration-color: #00af00\">5</span> │\n",
       "└─────────────────────────────────┴────────────────────────┴───────────────┘\n",
       "</pre>\n"
      ],
      "text/plain": [
       "┏━━━━━━━━━━━━━━━━━━━━━━━━━━━━━━━━━┳━━━━━━━━━━━━━━━━━━━━━━━━┳━━━━━━━━━━━━━━━┓\n",
       "┃\u001b[1m \u001b[0m\u001b[1mLayer (type)                   \u001b[0m\u001b[1m \u001b[0m┃\u001b[1m \u001b[0m\u001b[1mOutput Shape          \u001b[0m\u001b[1m \u001b[0m┃\u001b[1m \u001b[0m\u001b[1m      Param #\u001b[0m\u001b[1m \u001b[0m┃\n",
       "┡━━━━━━━━━━━━━━━━━━━━━━━━━━━━━━━━━╇━━━━━━━━━━━━━━━━━━━━━━━━╇━━━━━━━━━━━━━━━┩\n",
       "│ lstm_1 (\u001b[38;5;33mLSTM\u001b[0m)                   │ (\u001b[38;5;45mNone\u001b[0m, \u001b[38;5;34m4\u001b[0m)              │            \u001b[38;5;34m96\u001b[0m │\n",
       "├─────────────────────────────────┼────────────────────────┼───────────────┤\n",
       "│ dropout_1 (\u001b[38;5;33mDropout\u001b[0m)             │ (\u001b[38;5;45mNone\u001b[0m, \u001b[38;5;34m4\u001b[0m)              │             \u001b[38;5;34m0\u001b[0m │\n",
       "├─────────────────────────────────┼────────────────────────┼───────────────┤\n",
       "│ dense_1 (\u001b[38;5;33mDense\u001b[0m)                 │ (\u001b[38;5;45mNone\u001b[0m, \u001b[38;5;34m1\u001b[0m)              │             \u001b[38;5;34m5\u001b[0m │\n",
       "└─────────────────────────────────┴────────────────────────┴───────────────┘\n"
      ]
     },
     "metadata": {},
     "output_type": "display_data"
    },
    {
     "data": {
      "text/html": [
       "<pre style=\"white-space:pre;overflow-x:auto;line-height:normal;font-family:Menlo,'DejaVu Sans Mono',consolas,'Courier New',monospace\"><span style=\"font-weight: bold\"> Total params: </span><span style=\"color: #00af00; text-decoration-color: #00af00\">101</span> (404.00 B)\n",
       "</pre>\n"
      ],
      "text/plain": [
       "\u001b[1m Total params: \u001b[0m\u001b[38;5;34m101\u001b[0m (404.00 B)\n"
      ]
     },
     "metadata": {},
     "output_type": "display_data"
    },
    {
     "data": {
      "text/html": [
       "<pre style=\"white-space:pre;overflow-x:auto;line-height:normal;font-family:Menlo,'DejaVu Sans Mono',consolas,'Courier New',monospace\"><span style=\"font-weight: bold\"> Trainable params: </span><span style=\"color: #00af00; text-decoration-color: #00af00\">101</span> (404.00 B)\n",
       "</pre>\n"
      ],
      "text/plain": [
       "\u001b[1m Trainable params: \u001b[0m\u001b[38;5;34m101\u001b[0m (404.00 B)\n"
      ]
     },
     "metadata": {},
     "output_type": "display_data"
    },
    {
     "data": {
      "text/html": [
       "<pre style=\"white-space:pre;overflow-x:auto;line-height:normal;font-family:Menlo,'DejaVu Sans Mono',consolas,'Courier New',monospace\"><span style=\"font-weight: bold\"> Non-trainable params: </span><span style=\"color: #00af00; text-decoration-color: #00af00\">0</span> (0.00 B)\n",
       "</pre>\n"
      ],
      "text/plain": [
       "\u001b[1m Non-trainable params: \u001b[0m\u001b[38;5;34m0\u001b[0m (0.00 B)\n"
      ]
     },
     "metadata": {},
     "output_type": "display_data"
    },
    {
     "name": "stdout",
     "output_type": "stream",
     "text": [
      "Epoch 1/100\n",
      "49/49 - 0s - 7ms/step - loss: 0.1222\n",
      "Epoch 2/100\n",
      "49/49 - 0s - 604us/step - loss: 0.0687\n",
      "Epoch 3/100\n",
      "49/49 - 0s - 397us/step - loss: 0.0402\n",
      "Epoch 4/100\n",
      "49/49 - 0s - 395us/step - loss: 0.0225\n",
      "Epoch 5/100\n",
      "49/49 - 0s - 388us/step - loss: 0.0142\n",
      "Epoch 6/100\n",
      "49/49 - 0s - 391us/step - loss: 0.0146\n",
      "Epoch 7/100\n",
      "49/49 - 0s - 391us/step - loss: 0.0109\n",
      "Epoch 8/100\n",
      "49/49 - 0s - 396us/step - loss: 0.0144\n",
      "Epoch 9/100\n",
      "49/49 - 0s - 386us/step - loss: 0.0177\n",
      "Epoch 10/100\n",
      "49/49 - 0s - 373us/step - loss: 0.0124\n",
      "Epoch 11/100\n",
      "49/49 - 0s - 382us/step - loss: 0.0137\n",
      "Epoch 12/100\n",
      "49/49 - 0s - 387us/step - loss: 0.0100\n",
      "Epoch 13/100\n",
      "49/49 - 0s - 385us/step - loss: 0.0121\n",
      "Epoch 14/100\n",
      "49/49 - 0s - 396us/step - loss: 0.0140\n",
      "Epoch 15/100\n",
      "49/49 - 0s - 406us/step - loss: 0.0177\n",
      "Epoch 16/100\n",
      "49/49 - 0s - 391us/step - loss: 0.0118\n",
      "Epoch 17/100\n",
      "49/49 - 0s - 384us/step - loss: 0.0119\n",
      "Epoch 18/100\n",
      "49/49 - 0s - 388us/step - loss: 0.0133\n",
      "Epoch 19/100\n",
      "49/49 - 0s - 388us/step - loss: 0.0133\n",
      "Epoch 20/100\n",
      "49/49 - 0s - 406us/step - loss: 0.0158\n",
      "Epoch 21/100\n",
      "49/49 - 0s - 388us/step - loss: 0.0123\n",
      "Epoch 22/100\n",
      "49/49 - 0s - 393us/step - loss: 0.0142\n",
      "Epoch 23/100\n",
      "49/49 - 0s - 382us/step - loss: 0.0158\n",
      "Epoch 24/100\n",
      "49/49 - 0s - 386us/step - loss: 0.0141\n",
      "Epoch 25/100\n",
      "49/49 - 0s - 386us/step - loss: 0.0126\n",
      "Epoch 26/100\n",
      "49/49 - 0s - 391us/step - loss: 0.0104\n",
      "Epoch 27/100\n",
      "49/49 - 0s - 382us/step - loss: 0.0102\n",
      "Epoch 28/100\n",
      "49/49 - 0s - 378us/step - loss: 0.0134\n",
      "Epoch 29/100\n",
      "49/49 - 0s - 388us/step - loss: 0.0143\n",
      "Epoch 30/100\n",
      "49/49 - 0s - 371us/step - loss: 0.0102\n",
      "Epoch 31/100\n",
      "49/49 - 0s - 387us/step - loss: 0.0123\n",
      "Epoch 32/100\n",
      "49/49 - 0s - 412us/step - loss: 0.0114\n",
      "Epoch 33/100\n",
      "49/49 - 0s - 395us/step - loss: 0.0108\n",
      "Epoch 34/100\n",
      "49/49 - 0s - 388us/step - loss: 0.0101\n",
      "Epoch 35/100\n",
      "49/49 - 0s - 384us/step - loss: 0.0148\n",
      "Epoch 36/100\n",
      "49/49 - 0s - 384us/step - loss: 0.0115\n",
      "Epoch 37/100\n",
      "49/49 - 0s - 392us/step - loss: 0.0103\n",
      "Epoch 38/100\n",
      "49/49 - 0s - 393us/step - loss: 0.0115\n",
      "Epoch 39/100\n",
      "49/49 - 0s - 371us/step - loss: 0.0110\n",
      "Epoch 40/100\n",
      "49/49 - 0s - 376us/step - loss: 0.0142\n",
      "Epoch 41/100\n",
      "49/49 - 0s - 381us/step - loss: 0.0120\n",
      "Epoch 42/100\n",
      "49/49 - 0s - 384us/step - loss: 0.0105\n",
      "Epoch 43/100\n",
      "49/49 - 0s - 389us/step - loss: 0.0106\n",
      "Epoch 44/100\n",
      "49/49 - 0s - 382us/step - loss: 0.0109\n",
      "Epoch 45/100\n",
      "49/49 - 0s - 385us/step - loss: 0.0102\n",
      "Epoch 46/100\n",
      "49/49 - 0s - 393us/step - loss: 0.0133\n",
      "Epoch 47/100\n",
      "49/49 - 0s - 367us/step - loss: 0.0107\n",
      "Epoch 48/100\n",
      "49/49 - 0s - 372us/step - loss: 0.0096\n",
      "Epoch 49/100\n",
      "49/49 - 0s - 370us/step - loss: 0.0092\n",
      "Epoch 50/100\n",
      "49/49 - 0s - 519us/step - loss: 0.0090\n",
      "Epoch 51/100\n",
      "49/49 - 0s - 389us/step - loss: 0.0118\n",
      "Epoch 52/100\n",
      "49/49 - 0s - 374us/step - loss: 0.0129\n",
      "Epoch 53/100\n",
      "49/49 - 0s - 369us/step - loss: 0.0096\n",
      "Epoch 54/100\n",
      "49/49 - 0s - 364us/step - loss: 0.0114\n",
      "Epoch 55/100\n",
      "49/49 - 0s - 357us/step - loss: 0.0112\n",
      "Epoch 56/100\n",
      "49/49 - 0s - 359us/step - loss: 0.0108\n",
      "Epoch 57/100\n",
      "49/49 - 0s - 354us/step - loss: 0.0105\n",
      "Epoch 58/100\n",
      "49/49 - 0s - 362us/step - loss: 0.0105\n",
      "Epoch 59/100\n",
      "49/49 - 0s - 363us/step - loss: 0.0111\n",
      "Epoch 60/100\n",
      "49/49 - 0s - 354us/step - loss: 0.0121\n",
      "Epoch 61/100\n",
      "49/49 - 0s - 361us/step - loss: 0.0098\n",
      "Epoch 62/100\n",
      "49/49 - 0s - 357us/step - loss: 0.0106\n",
      "Epoch 63/100\n",
      "49/49 - 0s - 362us/step - loss: 0.0108\n",
      "Epoch 64/100\n",
      "49/49 - 0s - 365us/step - loss: 0.0113\n",
      "Epoch 65/100\n",
      "49/49 - 0s - 356us/step - loss: 0.0109\n",
      "Epoch 66/100\n",
      "49/49 - 0s - 358us/step - loss: 0.0097\n",
      "Epoch 67/100\n",
      "49/49 - 0s - 352us/step - loss: 0.0104\n",
      "Epoch 68/100\n",
      "49/49 - 0s - 356us/step - loss: 0.0107\n",
      "Epoch 69/100\n",
      "49/49 - 0s - 358us/step - loss: 0.0094\n",
      "Epoch 70/100\n",
      "49/49 - 0s - 363us/step - loss: 0.0110\n",
      "Epoch 71/100\n",
      "49/49 - 0s - 357us/step - loss: 0.0102\n",
      "Epoch 72/100\n",
      "49/49 - 0s - 362us/step - loss: 0.0095\n",
      "Epoch 73/100\n",
      "49/49 - 0s - 361us/step - loss: 0.0123\n",
      "Epoch 74/100\n",
      "49/49 - 0s - 363us/step - loss: 0.0111\n",
      "Epoch 75/100\n",
      "49/49 - 0s - 357us/step - loss: 0.0097\n",
      "Epoch 76/100\n",
      "49/49 - 0s - 355us/step - loss: 0.0106\n",
      "Epoch 77/100\n",
      "49/49 - 0s - 362us/step - loss: 0.0100\n",
      "Epoch 78/100\n",
      "49/49 - 0s - 355us/step - loss: 0.0094\n",
      "Epoch 79/100\n",
      "49/49 - 0s - 361us/step - loss: 0.0106\n",
      "Epoch 80/100\n",
      "49/49 - 0s - 363us/step - loss: 0.0109\n",
      "Epoch 81/100\n",
      "49/49 - 0s - 358us/step - loss: 0.0098\n",
      "Epoch 82/100\n",
      "49/49 - 0s - 358us/step - loss: 0.0116\n",
      "Epoch 83/100\n",
      "49/49 - 0s - 358us/step - loss: 0.0102\n",
      "Epoch 84/100\n",
      "49/49 - 0s - 358us/step - loss: 0.0102\n",
      "Epoch 85/100\n",
      "49/49 - 0s - 361us/step - loss: 0.0086\n",
      "Epoch 86/100\n",
      "49/49 - 0s - 359us/step - loss: 0.0119\n",
      "Epoch 87/100\n",
      "49/49 - 0s - 356us/step - loss: 0.0099\n",
      "Epoch 88/100\n",
      "49/49 - 0s - 350us/step - loss: 0.0106\n",
      "Epoch 89/100\n",
      "49/49 - 0s - 361us/step - loss: 0.0108\n",
      "Epoch 90/100\n",
      "49/49 - 0s - 362us/step - loss: 0.0119\n",
      "Epoch 91/100\n",
      "49/49 - 0s - 359us/step - loss: 0.0103\n",
      "Epoch 92/100\n",
      "49/49 - 0s - 364us/step - loss: 0.0102\n",
      "Epoch 93/100\n",
      "49/49 - 0s - 356us/step - loss: 0.0104\n",
      "Epoch 94/100\n",
      "49/49 - 0s - 369us/step - loss: 0.0088\n",
      "Epoch 95/100\n",
      "49/49 - 0s - 359us/step - loss: 0.0115\n",
      "Epoch 96/100\n",
      "49/49 - 0s - 354us/step - loss: 0.0094\n",
      "Epoch 97/100\n",
      "49/49 - 0s - 355us/step - loss: 0.0101\n",
      "Epoch 98/100\n",
      "49/49 - 0s - 361us/step - loss: 0.0093\n",
      "Epoch 99/100\n",
      "49/49 - 0s - 359us/step - loss: 0.0096\n",
      "Epoch 100/100\n",
      "49/49 - 0s - 351us/step - loss: 0.0091\n",
      "\u001b[1m2/2\u001b[0m \u001b[32m━━━━━━━━━━━━━━━━━━━━\u001b[0m\u001b[37m\u001b[0m \u001b[1m0s\u001b[0m 40ms/step\n",
      "\u001b[1m1/1\u001b[0m \u001b[32m━━━━━━━━━━━━━━━━━━━━\u001b[0m\u001b[37m\u001b[0m \u001b[1m0s\u001b[0m 5ms/step\n",
      "Train Score: 0.01 RMSE\n",
      "Test Score: 0.01 RMSE\n"
     ]
    }
   ],
   "source": [
    "from keras.models import Sequential\n",
    "from keras.layers import LSTM, Dense, Dropout\n",
    "\n",
    "# Define the LSTM model\n",
    "model = Sequential()\n",
    "model.add(LSTM(4, input_shape=(1, look_back)))\n",
    "model.add(Dropout(0.2))\n",
    "model.add(Dense(1))\n",
    "\n",
    "# Compile the model\n",
    "model.compile(loss='mean_squared_error', optimizer='adam')\n",
    "\n",
    "# Model summary\n",
    "model.summary()\n",
    "\n",
    "# Train the model\n",
    "model.fit(trainX, trainY, epochs=100, batch_size=1, verbose=2)\n",
    "\n",
    "# Make predictions\n",
    "trainPredict = model.predict(trainX)\n",
    "testPredict = model.predict(testX)\n",
    "\n",
    "# Invert predictions to original scale\n",
    "trainPredict = scaler.inverse_transform(trainPredict)\n",
    "trainY_inv = scaler.inverse_transform([trainY])\n",
    "testPredict = scaler.inverse_transform(testPredict)\n",
    "testY_inv = scaler.inverse_transform([testY])\n",
    "\n",
    "# Calculate root mean squared error\n",
    "from sklearn.metrics import mean_squared_error\n",
    "trainScore = mean_squared_error(trainY_inv[0], trainPredict[:,0], squared=False)\n",
    "testScore = mean_squared_error(testY_inv[0], testPredict[:,0], squared=False)\n",
    "\n",
    "print('Train Score: %.2f RMSE' % (trainScore))\n",
    "print('Test Score: %.2f RMSE' % (testScore))\n"
   ]
  },
  {
   "cell_type": "markdown",
   "id": "f00ed685",
   "metadata": {},
   "source": [
    "# SARIMA model"
   ]
  },
  {
   "cell_type": "markdown",
   "id": "34d879ce",
   "metadata": {},
   "source": [
    "Start by examining the Autocorrelation Function (ACF) and Partial Autocorrelation Function (PACF) plots.\n",
    "\n",
    "These will help us identify the appropriate parameters for the SARIMA model, specifically:\n",
    "\n",
    "p: The number of autoregressive terms (lags of the stationarized series).\n",
    "\n",
    "d: The degree of differencing (the number of times the data had to be differenced to make it stationary).\n",
    "\n",
    "q: The number of lagged forecast errors in the prediction equation (lags of the forecast errors)."
   ]
  },
  {
   "cell_type": "code",
   "execution_count": 10,
   "id": "f2dd7899",
   "metadata": {},
   "outputs": [
    {
     "data": {
      "image/png": "[encoded data removed]",
      "text/plain": [
       "<Figure size 1600x400 with 2 Axes>"
      ]
     },
     "metadata": {},
     "output_type": "display_data"
    }
   ],
   "source": [
    "import matplotlib.pyplot as plt\n",
    "from statsmodels.graphics.tsaplots import plot_acf, plot_pacf\n",
    "\n",
    "# ACF and PACF plots\n",
    "fig, axes = plt.subplots(1, 2, figsize=(16, 4))\n",
    "\n",
    "# Plot ACF\n",
    "plot_acf(filled_data, ax=axes[0])\n",
    "\n",
    "# Plot PACF\n",
    "plot_pacf(filled_data, ax=axes[1])\n",
    "\n",
    "plt.show()\n"
   ]
  },
  {
   "cell_type": "markdown",
   "id": "80ed3fa8",
   "metadata": {},
   "source": [
    "The Autocorrelation Function (ACF) and Partial Autocorrelation Function (PACF) plots provide insight into the potential parameters for our SARIMA model.\n",
    "\n",
    "The PACF plot shows a sharp cut-off after the first lag, suggesting that an AR(1) model might be appropriate (p=1). \n",
    "\n",
    "The ACF plot tails off, indicating that we may need a few MA terms."
   ]
  },
  {
   "cell_type": "markdown",
   "id": "adeb0870",
   "metadata": {},
   "source": [
    "# SARIMA Model Configuration and Fitting"
   ]
  },
  {
   "cell_type": "markdown",
   "id": "fe1cc217",
   "metadata": {},
   "source": [
    "Based on the initial analysis, I'll start with a SARIMA(1,0,1) model. Since no strong seasonal patterns are immediately evident from our brief analysis and considering the data is short and daily without clear seasonal breaks, I will not include seasonal components initially."
   ]
  },
  {
   "cell_type": "code",
   "execution_count": 11,
   "id": "4e1b9409",
   "metadata": {},
   "outputs": [
    {
     "data": {
      "text/html": [
       "<table class=\"simpletable\">\n",
       "<caption>SARIMAX Results</caption>\n",
       "<tr>\n",
       "  <th>Dep. Variable:</th>      <td>vader_score</td>   <th>  No. Observations:  </th>    <td>63</td>   \n",
       "</tr>\n",
       "<tr>\n",
       "  <th>Model:</th>           <td>SARIMAX(1, 0, 1)</td> <th>  Log Likelihood     </th>  <td>215.680</td>\n",
       "</tr>\n",
       "<tr>\n",
       "  <th>Date:</th>            <td>Thu, 16 May 2024</td> <th>  AIC                </th> <td>-425.361</td>\n",
       "</tr>\n",
       "<tr>\n",
       "  <th>Time:</th>                <td>13:56:02</td>     <th>  BIC                </th> <td>-419.028</td>\n",
       "</tr>\n",
       "<tr>\n",
       "  <th>Sample:</th>             <td>04-06-2009</td>    <th>  HQIC               </th> <td>-422.879</td>\n",
       "</tr>\n",
       "<tr>\n",
       "  <th></th>                   <td>- 06-07-2009</td>   <th>                     </th>     <td> </td>   \n",
       "</tr>\n",
       "<tr>\n",
       "  <th>Covariance Type:</th>        <td>opg</td>       <th>                     </th>     <td> </td>   \n",
       "</tr>\n",
       "</table>\n",
       "<table class=\"simpletable\">\n",
       "<tr>\n",
       "     <td></td>       <th>coef</th>     <th>std err</th>      <th>z</th>      <th>P>|z|</th>  <th>[0.025</th>    <th>0.975]</th>  \n",
       "</tr>\n",
       "<tr>\n",
       "  <th>ar.L1</th>  <td>    1.0012</td> <td>    0.002</td> <td>  617.276</td> <td> 0.000</td> <td>    0.998</td> <td>    1.004</td>\n",
       "</tr>\n",
       "<tr>\n",
       "  <th>ma.L1</th>  <td>   -0.7679</td> <td>    0.063</td> <td>  -12.254</td> <td> 0.000</td> <td>   -0.891</td> <td>   -0.645</td>\n",
       "</tr>\n",
       "<tr>\n",
       "  <th>sigma2</th> <td> 4.892e-05</td> <td> 3.98e-06</td> <td>   12.289</td> <td> 0.000</td> <td> 4.11e-05</td> <td> 5.67e-05</td>\n",
       "</tr>\n",
       "</table>\n",
       "<table class=\"simpletable\">\n",
       "<tr>\n",
       "  <th>Ljung-Box (L1) (Q):</th>     <td>1.57</td> <th>  Jarque-Bera (JB):  </th> <td>372.70</td>\n",
       "</tr>\n",
       "<tr>\n",
       "  <th>Prob(Q):</th>                <td>0.21</td> <th>  Prob(JB):          </th>  <td>0.00</td> \n",
       "</tr>\n",
       "<tr>\n",
       "  <th>Heteroskedasticity (H):</th> <td>9.05</td> <th>  Skew:              </th>  <td>1.72</td> \n",
       "</tr>\n",
       "<tr>\n",
       "  <th>Prob(H) (two-sided):</th>    <td>0.00</td> <th>  Kurtosis:          </th>  <td>14.61</td>\n",
       "</tr>\n",
       "</table><br/><br/>Warnings:<br/>[1] Covariance matrix calculated using the outer product of gradients (complex-step)."
      ],
      "text/latex": [
       "\\begin{center}\n",
       "\\begin{tabular}{lclc}\n",
       "\\toprule\n",
       "\\textbf{Dep. Variable:}          &   vader\\_score   & \\textbf{  No. Observations:  } &     63      \\\\\n",
       "\\textbf{Model:}                  & SARIMAX(1, 0, 1) & \\textbf{  Log Likelihood     } &  215.680    \\\\\n",
       "\\textbf{Date:}                   & Thu, 16 May 2024 & \\textbf{  AIC                } &  -425.361   \\\\\n",
       "\\textbf{Time:}                   &     13:56:02     & \\textbf{  BIC                } &  -419.028   \\\\\n",
       "\\textbf{Sample:}                 &    04-06-2009    & \\textbf{  HQIC               } &  -422.879   \\\\\n",
       "\\textbf{}                        &   - 06-07-2009   & \\textbf{                     } &             \\\\\n",
       "\\textbf{Covariance Type:}        &       opg        & \\textbf{                     } &             \\\\\n",
       "\\bottomrule\n",
       "\\end{tabular}\n",
       "\\begin{tabular}{lcccccc}\n",
       "                & \\textbf{coef} & \\textbf{std err} & \\textbf{z} & \\textbf{P$> |$z$|$} & \\textbf{[0.025} & \\textbf{0.975]}  \\\\\n",
       "\\midrule\n",
       "\\textbf{ar.L1}  &       1.0012  &        0.002     &   617.276  &         0.000        &        0.998    &        1.004     \\\\\n",
       "\\textbf{ma.L1}  &      -0.7679  &        0.063     &   -12.254  &         0.000        &       -0.891    &       -0.645     \\\\\n",
       "\\textbf{sigma2} &    4.892e-05  &     3.98e-06     &    12.289  &         0.000        &     4.11e-05    &     5.67e-05     \\\\\n",
       "\\bottomrule\n",
       "\\end{tabular}\n",
       "\\begin{tabular}{lclc}\n",
       "\\textbf{Ljung-Box (L1) (Q):}     & 1.57 & \\textbf{  Jarque-Bera (JB):  } & 372.70  \\\\\n",
       "\\textbf{Prob(Q):}                & 0.21 & \\textbf{  Prob(JB):          } &  0.00   \\\\\n",
       "\\textbf{Heteroskedasticity (H):} & 9.05 & \\textbf{  Skew:              } &  1.72   \\\\\n",
       "\\textbf{Prob(H) (two-sided):}    & 0.00 & \\textbf{  Kurtosis:          } & 14.61   \\\\\n",
       "\\bottomrule\n",
       "\\end{tabular}\n",
       "%\\caption{SARIMAX Results}\n",
       "\\end{center}\n",
       "\n",
       "Warnings: \\newline\n",
       " [1] Covariance matrix calculated using the outer product of gradients (complex-step)."
      ],
      "text/plain": [
       "<class 'statsmodels.iolib.summary.Summary'>\n",
       "\"\"\"\n",
       "                               SARIMAX Results                                \n",
       "==============================================================================\n",
       "Dep. Variable:            vader_score   No. Observations:                   63\n",
       "Model:               SARIMAX(1, 0, 1)   Log Likelihood                 215.680\n",
       "Date:                Thu, 16 May 2024   AIC                           -425.361\n",
       "Time:                        13:56:02   BIC                           -419.028\n",
       "Sample:                    04-06-2009   HQIC                          -422.879\n",
       "                         - 06-07-2009                                         \n",
       "Covariance Type:                  opg                                         \n",
       "==============================================================================\n",
       "                 coef    std err          z      P>|z|      [0.025      0.975]\n",
       "------------------------------------------------------------------------------\n",
       "ar.L1          1.0012      0.002    617.276      0.000       0.998       1.004\n",
       "ma.L1         -0.7679      0.063    -12.254      0.000      -0.891      -0.645\n",
       "sigma2      4.892e-05   3.98e-06     12.289      0.000    4.11e-05    5.67e-05\n",
       "===================================================================================\n",
       "Ljung-Box (L1) (Q):                   1.57   Jarque-Bera (JB):               372.70\n",
       "Prob(Q):                              0.21   Prob(JB):                         0.00\n",
       "Heteroskedasticity (H):               9.05   Skew:                             1.72\n",
       "Prob(H) (two-sided):                  0.00   Kurtosis:                        14.61\n",
       "===================================================================================\n",
       "\n",
       "Warnings:\n",
       "[1] Covariance matrix calculated using the outer product of gradients (complex-step).\n",
       "\"\"\""
      ]
     },
     "execution_count": 11,
     "metadata": {},
     "output_type": "execute_result"
    }
   ],
   "source": [
    "from statsmodels.tsa.statespace.sarimax import SARIMAX\n",
    "\n",
    "# Fitting the SARIMA model\n",
    "model_sarima = SARIMAX(filled_data, order=(1, 0, 1), seasonal_order=(0, 0, 0, 0), enforce_stationarity=False, enforce_invertibility=False)\n",
    "results_sarima = model_sarima.fit(disp=False)\n",
    "\n",
    "# Display the model summary\n",
    "results_sarima.summary()\n"
   ]
  },
  {
   "cell_type": "markdown",
   "id": "62e8a7ad",
   "metadata": {},
   "source": [
    "The SARIMA(1,0,1) model has been fitted, and here are the key aspects of the model summary:\n",
    "\n",
    "The AR coefficient is very close to 1, which suggests a strong autoregressive component.\n",
    "\n",
    "The MA coefficient is significant with a value of approximately -0.77, indicating the influence of previous errors on the current prediction.\n",
    "\n",
    "The model's AIC and BIC values are quite low, which typically indicates a good fit, though they should be used to compare across different model configurations.\n",
    "\n",
    "Diagnostic tests like the Ljung-Box test and the Jarque-Bera test suggest some residuals may not be perfectly noise-like, indicating potential room for model improvement."
   ]
  },
  {
   "cell_type": "markdown",
   "id": "377044b7",
   "metadata": {},
   "source": [
    "# Model Evaluation and Forecasting"
   ]
  },
  {
   "cell_type": "markdown",
   "id": "caae30fc",
   "metadata": {},
   "source": [
    "To evaluate the SARIMA model, I will perform a forecast and check its accuracy against actual observations.\n",
    "\n",
    "I will also look at the residuals to ensure they are normally distributed (which suggests a good fit)."
   ]
  },
  {
   "cell_type": "code",
   "execution_count": 12,
   "id": "df339a6a",
   "metadata": {},
   "outputs": [
    {
     "data": {
      "image/png": "[encoded data removed]",
      "text/plain": [
       "<Figure size 1400x700 with 1 Axes>"
      ]
     },
     "metadata": {},
     "output_type": "display_data"
    }
   ],
   "source": [
    "# Forecast the next 10 days\n",
    "forecast_steps = 10\n",
    "pred = results_sarima.get_forecast(steps=forecast_steps)\n",
    "pred_ci = pred.conf_int()\n",
    "\n",
    "# Plot the past data along with the forecast and confidence intervals\n",
    "ax = filled_data.plot(label='observed', figsize=(14, 7))\n",
    "pred.predicted_mean.plot(ax=ax, label='Forecast')\n",
    "ax.fill_between(pred_ci.index,\n",
    "                pred_ci.iloc[:, 0],\n",
    "                pred_ci.iloc[:, 1], color='pink', alpha=.3)\n",
    "\n",
    "ax.set_xlabel('Date')\n",
    "ax.set_ylabel('Vader Score')\n",
    "plt.legend()\n",
    "plt.show()\n"
   ]
  },
  {
   "cell_type": "markdown",
   "id": "dfbc3ac4",
   "metadata": {},
   "source": [
    "As an alternative, let's manually inspect the forecasted values and their confidence intervals without attempting a complex plot:"
   ]
  },
  {
   "cell_type": "code",
   "execution_count": 13,
   "id": "4f1872f5",
   "metadata": {},
   "outputs": [
    {
     "data": {
      "text/plain": [
       "(2009-06-08    0.177194\n",
       " 2009-06-09    0.177410\n",
       " 2009-06-10    0.177625\n",
       " 2009-06-11    0.177841\n",
       " 2009-06-12    0.178058\n",
       " 2009-06-13    0.178274\n",
       " 2009-06-14    0.178491\n",
       " 2009-06-15    0.178708\n",
       " 2009-06-16    0.178925\n",
       " 2009-06-17    0.179143\n",
       " Freq: D, Name: predicted_mean, dtype: float64,\n",
       "             lower vader_score  upper vader_score\n",
       " 2009-06-08           0.163485           0.190903\n",
       " 2009-06-09           0.163333           0.191487\n",
       " 2009-06-10           0.163189           0.192062\n",
       " 2009-06-11           0.163053           0.192629\n",
       " 2009-06-12           0.162925           0.193190\n",
       " 2009-06-13           0.162804           0.193744\n",
       " 2009-06-14           0.162690           0.194292\n",
       " 2009-06-15           0.162582           0.194834\n",
       " 2009-06-16           0.162479           0.195371\n",
       " 2009-06-17           0.162383           0.195902)"
      ]
     },
     "execution_count": 13,
     "metadata": {},
     "output_type": "execute_result"
    }
   ],
   "source": [
    "# Extract predicted means and confidence intervals\n",
    "forecasted_values = pred.predicted_mean\n",
    "confidence_intervals = pred.conf_int()\n",
    "\n",
    "# Display the forecasted values and their confidence intervals\n",
    "forecasted_values, confidence_intervals"
   ]
  },
  {
   "cell_type": "markdown",
   "id": "945a6456",
   "metadata": {},
   "source": [
    "The forecast suggests a slight increasing trend in the Vader Score over the next 10 days. The model's confidence intervals indicate a reasonable degree of uncertainty, staying fairly tight around the forecasted values.\n",
    "\n",
    "This analysis provides a quantitative outlook based on the SARIMA model, which could be useful for understanding trends in the data. Further refinements could be made by testing different model parameters, adding seasonal components if more data suggests seasonality, or incorporating external variables."
   ]
  },
  {
   "cell_type": "markdown",
   "id": "2f0a085f",
   "metadata": {},
   "source": [
    "# I will continue with this tomorrow"
   ]
  },
  {
   "cell_type": "code",
   "execution_count": null,
   "id": "ad16caaf",
   "metadata": {},
   "outputs": [],
   "source": []
  }
 ],
 "metadata": {
  "kernelspec": {
   "display_name": "Python 3 (ipykernel)",
   "language": "python",
   "name": "python3"
  },
  "language_info": {
   "codemirror_mode": {
    "name": "ipython",
    "version": 3
   },
   "file_extension": ".py",
   "mimetype": "text/x-python",
   "name": "python",
   "nbconvert_exporter": "python",
   "pygments_lexer": "ipython3",
   "version": "3.11.4"
  }
 },
 "nbformat": 4,
 "nbformat_minor": 5
}
